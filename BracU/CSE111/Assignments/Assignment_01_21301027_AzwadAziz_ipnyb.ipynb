{
  "nbformat": 4,
  "nbformat_minor": 0,
  "metadata": {
    "colab": {
      "name": "Assignment_01_21301027_AzwadAziz_ipnyb.ipynb",
      "provenance": [],
      "collapsed_sections": []
    },
    "kernelspec": {
      "name": "python3",
      "display_name": "Python 3"
    },
    "language_info": {
      "name": "python"
    }
  },
  "cells": [
    {
      "cell_type": "code",
      "metadata": {
        "colab": {
          "base_uri": "https://localhost:8080/"
        },
        "id": "SZ2wEXuxFU4A",
        "outputId": "313dc39d-0102-4c23-fc45-25eacb0bf9f0"
      },
      "source": [
        "# Task 1. String\n",
        "\n",
        "given = input(\"Please give the input\")\n",
        "upper = []\n",
        "lower = []\n",
        "\n",
        "for i in given:\n",
        "  if i in \"ABCDEFGHIJKLMNOPQRSTUVWXYZ\":\n",
        "    upper.append(i)\n",
        "  else:\n",
        "    lower.append(i)\n",
        "\n",
        "if len(upper)>len(lower):\n",
        "  \n",
        "  print(given.upper())\n",
        "else:\n",
        "  \n",
        "  print(given.lower())\n",
        "\n",
        "\n"
      ],
      "execution_count": null,
      "outputs": [
        {
          "output_type": "stream",
          "name": "stdout",
          "text": [
            "Please give the inputasdg\n",
            "asdg\n"
          ]
        }
      ]
    },
    {
      "cell_type": "code",
      "metadata": {
        "colab": {
          "base_uri": "https://localhost:8080/"
        },
        "id": "n9wfn4yYRp7Y",
        "outputId": "8bcdbed1-505c-4089-e2b0-8db89b61af33"
      },
      "source": [
        "# Task 2 String\n",
        "\n",
        "given = input(\"Please give the input\")\n",
        "\n",
        "if given.isdigit() == True:\n",
        "  print(\"NUMBER\")\n",
        "elif given.isalpha() == True:\n",
        "  print(\"WORD\")\n",
        "else:\n",
        "  print(\"MIXED\")\n",
        "\n"
      ],
      "execution_count": null,
      "outputs": [
        {
          "output_type": "stream",
          "name": "stdout",
          "text": [
            "WORD\n"
          ]
        }
      ]
    },
    {
      "cell_type": "code",
      "metadata": {
        "colab": {
          "base_uri": "https://localhost:8080/"
        },
        "id": "rgjrD_rPTKmP",
        "outputId": "d6e165fb-3acf-4f52-fed4-142a76a63e51"
      },
      "source": [
        "# Task 3. String\n",
        "\n",
        "given = input()\n",
        "limits = []\n",
        "for i in range(len(given)):\n",
        "  if given[i].isupper() == True:\n",
        "    limits.append(i)\n",
        "\n",
        "if limits[1]-limits[0] == 1:\n",
        "  print(\"BLANK\") \n",
        "else:\n",
        "  for i in range(limits[0]+1, limits[1]):\n",
        "    print(given[i] , end = \"\")\n",
        "\n",
        "\n"
      ],
      "execution_count": 71,
      "outputs": [
        {
          "output_type": "stream",
          "name": "stdout",
          "text": [
            "baNgladEsh\n",
            "glad"
          ]
        }
      ]
    },
    {
      "cell_type": "code",
      "metadata": {
        "colab": {
          "base_uri": "https://localhost:8080/"
        },
        "id": "VUDWiLw-hyml",
        "outputId": "a6383994-6f58-4684-8f4c-b05eee4f8911"
      },
      "source": [
        "# Task 4. String\n",
        "given = input()\n",
        "\n",
        "if \"too good\" in given:\n",
        "  x = given.replace(\"too good\",\"excellent\")\n",
        "  print(x)\n",
        "  \n",
        "\n",
        "else: \n",
        "  print(given)"
      ],
      "execution_count": null,
      "outputs": [
        {
          "output_type": "stream",
          "name": "stdout",
          "text": [
            "The book is not excellent!\n"
          ]
        }
      ]
    },
    {
      "cell_type": "code",
      "metadata": {
        "colab": {
          "base_uri": "https://localhost:8080/"
        },
        "id": "3Z5TVQjInziI",
        "outputId": "c19f8be4-5b2a-4aea-e614-afbfa502b077"
      },
      "source": [
        "# Task 5. String\n",
        "given1 = input()\n",
        "given2 = input()\n",
        "\n",
        "similar = []\n",
        "\n",
        "for i in given1:\n",
        "  if i in given2:\n",
        "    if i not in similar:\n",
        "      similar.append(i)\n",
        "\n",
        "if len(similar) == 0:\n",
        "  print(\"Nothing in common\")\n",
        "else:\n",
        "  for i in given1:\n",
        "    if i in similar:\n",
        "      print(i,end=\"\")\n",
        "\n",
        "  for i in given2:\n",
        "    if i in similar:\n",
        "      print(i,end=\"\")\n",
        "\n",
        "    "
      ],
      "execution_count": null,
      "outputs": [
        {
          "output_type": "stream",
          "name": "stdout",
          "text": [
            "Nothing in common\n"
          ]
        }
      ]
    },
    {
      "cell_type": "code",
      "metadata": {
        "colab": {
          "base_uri": "https://localhost:8080/"
        },
        "id": "S-X03-JgM94Z",
        "outputId": "255b1d68-2259-4a21-a1d0-09b93a2bdb83"
      },
      "source": [
        "# Task 6. String\n",
        "given = input()\n",
        "lower = False\n",
        "upper = False\n",
        "digit = False\n",
        "special = False\n",
        "\n",
        "for i in given:\n",
        "  if i in \"abcdefghijklmnopqrstuvwxyz\":\n",
        "    lower = True\n",
        "  elif i in \"ABCDEFGHIJKLMNOPQRSTUVWXYZ\":\n",
        "    upper = True\n",
        "  elif i in \"0123456789\":\n",
        "    digit = True\n",
        "  elif i in \"_$#@\":\n",
        "    special = True\n",
        "\n",
        "if lower == False:\n",
        "  print(\"Lowercase character missing\" , end=\",\")\n",
        "\n",
        "if upper == False:\n",
        "  print(\"Uppercase character missing\" , end=\",\")\n",
        "\n",
        "if digit == False:\n",
        "  print(\"Digit missing\" , end = \",\")\n",
        "\n",
        "if special == False:\n",
        "  print(\"Special character missing\")\n",
        "\n",
        "if lower == True and upper == True and digit == True and speical == True:\n",
        "  print(\"OK\")\n",
        "\n"
      ],
      "execution_count": null,
      "outputs": [
        {
          "output_type": "stream",
          "name": "stdout",
          "text": [
            "Uppercase character missing,Digit missing,Special character missing\n"
          ]
        }
      ]
    },
    {
      "cell_type": "code",
      "metadata": {
        "colab": {
          "base_uri": "https://localhost:8080/"
        },
        "id": "yekQhiIeYwaS",
        "outputId": "c7864910-516a-4ce9-c5af-69596a38f843"
      },
      "source": [
        "# Task 1 List\n",
        "stack = []\n",
        "while True:\n",
        "  start = input(\"\")\n",
        "\n",
        "  if start == \"STOP\":\n",
        "    break\n",
        "  else:\n",
        "    stack.append(start)\n",
        "count = []\n",
        "values = []\n",
        "for i in stack:\n",
        "  if i not in values:\n",
        "    values.append(i)\n",
        "    count.append(stack.count(i))\n",
        "  else:\n",
        "    continue\n",
        "\n",
        "for i,j in zip(values,count):\n",
        "  print(f\"{i} - {j} times\")\n"
      ],
      "execution_count": 54,
      "outputs": [
        {
          "output_type": "stream",
          "name": "stdout",
          "text": [
            "12\n",
            "23\n",
            "12\n",
            "STOP\n",
            "12 - 2 times\n",
            "23 - 1 times\n"
          ]
        }
      ]
    },
    {
      "cell_type": "code",
      "metadata": {
        "colab": {
          "base_uri": "https://localhost:8080/"
        },
        "id": "AoMta-pzr7a6",
        "outputId": "82c24274-49be-415a-c4e2-210e07363972"
      },
      "source": [
        "# Task 2. List\n",
        "\n",
        "count = int(input(\"Enter the number of lists of be entered\\n\"))\n",
        "\n",
        "list_1 = []\n",
        "sum_1 = 0\n",
        "\n",
        "for i in range(count):\n",
        "  given_1 = input(\"Enter your list\\n\")\n",
        "  sum_2 = 0\n",
        "  list_2 = given_1.split(\" \")\n",
        "\n",
        "  for i in list_2:\n",
        "    sum_2 += int(i)\n",
        "\n",
        "  if sum_2>sum_1:\n",
        "    sum_1 = sum_2\n",
        "    list_1 = list_2\n",
        "  else:\n",
        "    continue\n",
        "\n",
        "\n",
        "final = []\n",
        "\n",
        "for i in list_1:\n",
        "  final.append(int(i))\n",
        "print(sum_1)\n",
        "print(print(final))\n"
      ],
      "execution_count": 8,
      "outputs": [
        {
          "output_type": "stream",
          "name": "stdout",
          "text": [
            "Enter the number of lists of be entered\n",
            "4\n",
            "Enter your list\n",
            "1 2 3\n",
            "Enter your list\n",
            "4 5 6\n",
            "Enter your list\n",
            "10 11 12\n",
            "Enter your list\n",
            "7 8 9\n",
            "33\n",
            "[10, 11, 12]\n",
            "None\n"
          ]
        }
      ]
    },
    {
      "cell_type": "code",
      "metadata": {
        "colab": {
          "base_uri": "https://localhost:8080/"
        },
        "id": "LgpjZpc5vFqQ",
        "outputId": "4913e2ba-9d8d-4bb1-e2a0-1704152078d0"
      },
      "source": [
        "# Task3 List\n",
        "\n",
        "given_1 = input(\"Enter the first list\\n\")\n",
        "given_2 = input(\"Enter the second list\\n\")\n",
        "\n",
        "list_1 = [int(i)  for i in given_1.split(\" \")]\n",
        "list_2 = [int(i)  for i in given_2.split(\" \")]\n",
        "final = []\n",
        "\n",
        "for i in list_1:\n",
        "  for j in list_2:\n",
        "    final.append(i*j)\n",
        "\n",
        "print(final)\n",
        "\n"
      ],
      "execution_count": 12,
      "outputs": [
        {
          "output_type": "stream",
          "name": "stdout",
          "text": [
            "Enter the first list\n",
            "2 3 6\n",
            "Enter the second list\n",
            "3 4 5\n",
            "[6, 8, 10, 9, 12, 15, 18, 24, 30]\n"
          ]
        }
      ]
    },
    {
      "cell_type": "code",
      "metadata": {
        "colab": {
          "base_uri": "https://localhost:8080/"
        },
        "id": "EMn7wv0h7MuC",
        "outputId": "27829848-4fb5-4dc7-a34a-e6d0a53421fa"
      },
      "source": [
        "# Task. 4 Lists\n",
        "\n",
        "while True:\n",
        "  flag = True\n",
        "  \n",
        "  given_1 = input(\"Please give the numbers\\n\")\n",
        "  if given_1 == \"STOP\":\n",
        "    break\n",
        "  else:\n",
        "    list_1 = [int(i) for i in given_1.split(\" \")]\n",
        "    for i in range(len(list_1)-1):\n",
        "      if list_1[i+1]-list_1[i] > 6 :\n",
        "        flag = False\n",
        "    \n",
        "    if flag == True:\n",
        "      print(\"UB Jumper\")\n",
        "    else:\n",
        "      print(\"Not UB Jumper\")\n",
        "\n"
      ],
      "execution_count": 13,
      "outputs": [
        {
          "name": "stdout",
          "output_type": "stream",
          "text": [
            "Please give the numbers\n",
            "1 4 2 3\n",
            "UB Jumper\n",
            "Please give the numbers\n",
            "2 1 4 6 10\n",
            "UB Jumper\n",
            "Please give the numbers\n",
            "1 4 2 -1 6\n",
            "Not UB Jumper\n",
            "Please give the numbers\n",
            "STOP\n"
          ]
        }
      ]
    },
    {
      "cell_type": "code",
      "metadata": {
        "colab": {
          "base_uri": "https://localhost:8080/"
        },
        "id": "3PAr5rxa9Jop",
        "outputId": "6e738723-b6b2-4513-a52a-3dc69b54385b"
      },
      "source": [
        "#Task 5. Lists\n",
        "\n",
        "given_1 = input(\"Enter the string\\n\")\n",
        "\n",
        "upper = []\n",
        "lower = []\n",
        "odd = []\n",
        "even = []\n",
        "\n",
        "for i in given_1:\n",
        "  if i.islower() == True:\n",
        "    lower.append(i)\n",
        "  \n",
        "  if i.isupper() == True:\n",
        "    upper.append(i)\n",
        "\n",
        "  if i.isdigit() == True:\n",
        "    if int(i)%2 == 0:\n",
        "      even.append(i)\n",
        "    else:\n",
        "      odd.append(i)\n",
        "\n",
        "lower.sort()\n",
        "upper.sort()\n",
        "odd.sort()\n",
        "even.sort()\n",
        "\n",
        "for i in lower:\n",
        "  print(i,end=\"\")\n",
        "for i in upper:\n",
        "  print(i,end=\"\")\n",
        "for i in odd:\n",
        "  print(i,end=\"\")\n",
        "for i in even:\n",
        "  print(i,end=\"\")"
      ],
      "execution_count": 17,
      "outputs": [
        {
          "output_type": "stream",
          "name": "stdout",
          "text": [
            "Enter the string\n",
            "Bracu1234\n",
            "acruB1324"
          ]
        }
      ]
    },
    {
      "cell_type": "code",
      "metadata": {
        "colab": {
          "base_uri": "https://localhost:8080/"
        },
        "id": "C-IZcOIO_IVt",
        "outputId": "a99b70cf-b2c4-45d3-973f-9ae44acc9dc9"
      },
      "source": [
        "#Task 6. Lists\n",
        "\n",
        "given_1 = input(\"Enter n and k\\n\")\n",
        "given_3 = given_1.split(\" \")\n",
        "n = int(given_3[0])\n",
        "k = int(given_3[1])\n",
        "given_2 = input(\"Enter the numbers\\n\")\n",
        "list_4 = [int(i) for i in given_2.split(\" \")]\n",
        "list_2 = [(i+k) for i in list_4]\n",
        "count = 0\n",
        "teams = 0\n",
        "\n",
        "for i in list_2:\n",
        "  if i<6:\n",
        "    count+=1\n",
        "    if count == 3:\n",
        "      teams+=1\n",
        "      count = 0\n",
        "  else:\n",
        "    continue\n",
        "\n",
        "print(teams)\n"
      ],
      "execution_count": 28,
      "outputs": [
        {
          "output_type": "stream",
          "name": "stdout",
          "text": [
            "Enter n and k\n",
            "6 5\n",
            "Enter the numbers\n",
            "0 0 0 0 0 0\n",
            "2\n"
          ]
        }
      ]
    },
    {
      "cell_type": "code",
      "metadata": {
        "colab": {
          "base_uri": "https://localhost:8080/"
        },
        "id": "xmNBjY83FPlQ",
        "outputId": "8092f2a7-a74c-49bd-8691-388f0f2f3ead"
      },
      "source": [
        "#Task 1. Dictionary and Tuple\n",
        "\n",
        "given_1 = input(\"Enter the 1st dictionary\\n\")\n",
        "dict_1 = {}\n",
        "list_1 = given_1.split(\",\")\n",
        "for i in list_1:\n",
        "  x = i.split(\":\")\n",
        "  dict_1.update({x[0].lstrip(\" \"):int(x[1])})\n",
        "\n",
        "given_2 = input(\"Enter the 2nd dictionary\\n\")\n",
        "dict_2 = {}\n",
        "list_2 = given_2.split(\",\")\n",
        "for i in list_2:\n",
        "  x = i.split(\":\")\n",
        "  dict_2.update({x[0].lstrip(\" \"):int(x[1])})\n",
        "\n",
        "dict_3 = {}\n",
        "if len(dict_2)>=len(dict_1):\n",
        "  for i in dict_2:\n",
        "    if i in dict_1:\n",
        "      dict_3.update({i:dict_1[i]+dict_2[i]})\n",
        "    else:\n",
        "      dict_3.update({i:dict_2[i]})\n",
        "else:\n",
        "  for i in dict_1:\n",
        "    if i in dict_2:\n",
        "      dict_3.update({i:dict_2[i]+dict_1[i]})\n",
        "    else:\n",
        "      dict_3.update({i:dict_1[i]})\n",
        "tuple_1 = ()\n",
        "final = []\n",
        "for i in dict_3.values():\n",
        "  final.append(i)\n",
        "  final.sort()\n",
        "  \n",
        "for i in final:\n",
        "  tuple_1 += (i,)\n",
        "\n",
        "print(dict_3)\n",
        "\n",
        "print(f\"Values: {tuple_1}\")\n"
      ],
      "execution_count": 52,
      "outputs": [
        {
          "output_type": "stream",
          "name": "stdout",
          "text": [
            "Enter the 1st dictionary\n",
            "a: 100, b: 100, c: 200, d: 300\n",
            "Enter the 2nd dictionary\n",
            "a: 300, b: 200, d: 400, e: 200\n",
            "{'a': 400, 'b': 300, 'd': 700, 'e': 200}\n",
            "Values: (200, 300, 400, 700)\n"
          ]
        }
      ]
    },
    {
      "cell_type": "code",
      "metadata": {
        "id": "7IQe3X0sNGDa"
      },
      "source": [
        "#Task 2. Dictionary and Tuple\n",
        "stack = []\n",
        "while True:\n",
        "  start = input(\"\")\n",
        "\n",
        "  if start == \"STOP\":\n",
        "    break\n",
        "  else:\n",
        "    stack.append(start)\n",
        "\n",
        "frequencies = {}\n",
        "\n",
        "for i in stack:\n",
        "  if i not in frequencies:\n",
        "    frequencies.update({i:stack.count(i)})\n",
        "  else:\n",
        "    continue\n",
        "\n",
        "for i in frequencies:\n",
        "  print(f\"{i} - {frequencies[i]} times\")\n"
      ],
      "execution_count": null,
      "outputs": []
    },
    {
      "cell_type": "code",
      "metadata": {
        "colab": {
          "base_uri": "https://localhost:8080/"
        },
        "id": "zmfDG_PvEgo2",
        "outputId": "8a80e11a-c22e-4557-8074-52dbf04de118"
      },
      "source": [
        "#Task 3 . Dictionary and Tuple\n",
        "\n",
        "given_1 = input(\"Enter a dictionary\\n\")\n",
        "\n",
        "keys = []\n",
        "for i in given_1.values():\n",
        "  if i not in keys:\n",
        "    keys.append(i)\n",
        "\n",
        "values = [[] for i in range(len(keys))]\n",
        "\n",
        "\n",
        "for i in range(len(keys)):\n",
        "  for j in given_1:\n",
        "\n",
        "    if given_1[j] == keys[i]:\n",
        "      values[i].append(j)\n",
        "\n",
        "#print(values)\n",
        "\n",
        "final = {i:j for i,j in zip(keys,values)}\n",
        "print(final)"
      ],
      "execution_count": 58,
      "outputs": [
        {
          "output_type": "stream",
          "name": "stdout",
          "text": [
            "{'10': ['a', 'c'], '20': ['b']}\n"
          ]
        }
      ]
    },
    {
      "cell_type": "code",
      "metadata": {
        "colab": {
          "base_uri": "https://localhost:8080/"
        },
        "id": "BUNAqSHkVfTd",
        "outputId": "b70be3ce-a7f7-4181-fc02-2dc29df782f8"
      },
      "source": [
        "#Task 4. Dictionary and Tuple\n",
        "\n",
        "given_1 = input(\"Enter the 1st string\\n\")\n",
        "given_2 = input(\"Enter the 2nd string\\n\")\n",
        "\n",
        "dict_1 = {}\n",
        "for i in given_1:\n",
        "  dict_1.update({i:given_1.count(i)})\n",
        "\n",
        "dict_2 = {}\n",
        "for i in given_2:\n",
        "  dict_2.update({i:given_2.count(i)})\n",
        "\n",
        "if dict_1 == dict_2:\n",
        "  print(\"Those strings are anagrams\")\n",
        "else:\n",
        "  print(\"Those strings are not anagrams\")\n"
      ],
      "execution_count": 68,
      "outputs": [
        {
          "output_type": "stream",
          "name": "stdout",
          "text": [
            "Enter the 1st string\n",
            "evil\n",
            "Enter the 2nd string\n",
            "livl\n",
            "Those strings are not anagrams\n"
          ]
        }
      ]
    },
    {
      "cell_type": "code",
      "metadata": {
        "colab": {
          "base_uri": "https://localhost:8080/"
        },
        "id": "aSl24rQXXjVq",
        "outputId": "0349185a-6e9b-462c-a9c4-7598b4014ff8"
      },
      "source": [
        "#Task 5. Dictionary and Tuple\n",
        "\n",
        "dict_1 = {\n",
        "    \n",
        "    \".\":1 , \",\":11 , \"?\":111, \"!\":1111, \":\":11111,\n",
        "    \"a\":2, \"b\":22, \"c\":222,\n",
        "    \"d\":3, \"e\":33, \"f\":333,\n",
        "    \"g\":4, \"h\":44, \"i\":444,\n",
        "    \"j\":5, \"k\":55, \"l\":555,\n",
        "    \"m\":6, \"n\":66, \"o\":666,\n",
        "    \"p\":7, \"q\":77, \"r\":777,\"s\":7777, \n",
        "    \"t\":8, \"u\":88, \"v\":888, \n",
        "    \"w\":9, \"x\":99, \"y\":999, \"z\":9999,\n",
        "    \" \":0\n",
        "    }\n",
        "\n",
        "given_1 = input(\"Enter the string\\n\").lower()\n",
        "\n",
        "for i in given_1:\n",
        "  print(dict_1[i],end=\"\")"
      ],
      "execution_count": 70,
      "outputs": [
        {
          "output_type": "stream",
          "name": "stdout",
          "text": [
            "Enter the string\n",
            "Hello, World!\n",
            "4433555555666110966677755531111"
          ]
        }
      ]
    }
  ]
}