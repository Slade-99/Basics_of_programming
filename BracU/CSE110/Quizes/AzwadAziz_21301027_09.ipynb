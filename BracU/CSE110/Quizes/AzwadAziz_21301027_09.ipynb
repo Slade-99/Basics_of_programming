{
  "nbformat": 4,
  "nbformat_minor": 0,
  "metadata": {
    "colab": {
      "name": "AzwadAziz_21301027_09.ipynb",
      "provenance": [],
      "collapsed_sections": []
    },
    "kernelspec": {
      "name": "python3",
      "display_name": "Python 3"
    },
    "language_info": {
      "name": "python"
    }
  },
  "cells": [
    {
      "cell_type": "code",
      "metadata": {
        "id": "Qlh9K-mw00pn",
        "colab": {
          "base_uri": "https://localhost:8080/"
        },
        "outputId": "3a81527e-dbd4-4129-c478-20bec3ec9c32"
      },
      "source": [
        "#          Question1\n",
        "# -------------------------------------------\n",
        "\n",
        "input_numbers = input(\"Enter the numbers\\n\").split(', ')\n",
        "input_list = []\n",
        "for i in input_numbers:\n",
        "  input_list.append(int(i))\n",
        "\n",
        "sum_input_list = 0\n",
        "\n",
        "for i in input_list:\n",
        "  sum_input_list += i\n",
        "average_input_list = (sum_input_list)/len(input_list)\n",
        "\n",
        "new_list = []\n",
        "for i in input_list:\n",
        "  if i > average_input_list:\n",
        "    new_list.append(i)\n",
        "\n",
        "sum_new_list = 0\n",
        "\n",
        "for i in new_list:\n",
        "  sum_new_list += i\n",
        "average_new_list = (sum_new_list)/len(new_list)\n",
        "\n",
        "\n",
        "\n",
        "print(f'Input list {input_list}')\n",
        "print(f'Average of input list: {average_input_list} ')\n",
        "print(f'New list {new_list}')\n",
        "print(f'Average of new list : {average_new_list}')\n",
        "input_list.sort()\n",
        "print(f'The 2nd highest number from the list1:{input_list[-2]}')\n",
        "if average_new_list> input_list[-2]:\n",
        "  print('It’s a miracle!!!')\n",
        "else:\n",
        "  print('Just another normal day!!!')\n"
      ],
      "execution_count": 12,
      "outputs": [
        {
          "output_type": "stream",
          "name": "stdout",
          "text": [
            "Enter the numbers\n",
            "10, 12, 13, 3\n",
            "Input list [10, 12, 13, 3]\n",
            "Average of input list: 9.5 \n",
            "New list [10, 12, 13]\n",
            "Average of new list : 11.666666666666666\n",
            "The 2nd highest number from the list1:12\n",
            "Just another normal day!!!\n"
          ]
        }
      ]
    },
    {
      "cell_type": "code",
      "metadata": {
        "id": "1QxFgUTx03Bv",
        "colab": {
          "base_uri": "https://localhost:8080/"
        },
        "outputId": "7fd9eb94-4b61-49d0-b81a-221d937e403a"
      },
      "source": [
        "#           Question 2 \n",
        "#    --------------------------\n",
        "\n",
        "current_sem_data = {\"John\":[4.0,3.7,4.0], \"Tom\":[3.3,3.7,4.0], \"Harry\":[3.3,3.7,4.0]}\n",
        "previous_sem_data = {\"John\":[3.88,90], \"Tom\":[3.52, 70], \"Harry\":[3.25,85]}\n",
        "\n",
        "name = input('Enter the name of the student\\n')\n",
        "print(f'*****Data for {name}*****')\n",
        "\n",
        "\n",
        "print(f\"Previous semester's completed credits: {previous_sem_data[name][1]}\")\n",
        "print(f\"Previous semester's CGPA:{previous_sem_data[name][0]}\")\n",
        "print(f\"Total Credits completed including current semester:{previous_sem_data[name][1] + 3*len(current_sem_data[name])}\")\n",
        "current_total_GPA = 0\n",
        "for i in current_sem_data[name]:\n",
        "  current_total_GPA += i*3\n",
        "print(f\"Current semester's total GPA:{current_total_GPA}\")\n",
        "\n",
        "current_CGPA = ((previous_sem_data[name][0]*previous_sem_data[name][1]) + current_total_GPA)/(previous_sem_data[name][1] + 3*len(current_sem_data[name]))\n",
        "\n",
        "print(f\"Current semester's CGPA:{current_CGPA}\")"
      ],
      "execution_count": 18,
      "outputs": [
        {
          "output_type": "stream",
          "name": "stdout",
          "text": [
            "Enter the name of the student\n",
            "Harry\n",
            "*****Data for Harry*****\n",
            "Previous semester's completed credits: 85\n",
            "Previous semester's CGPA:3.25\n",
            "Total Credits completed including current semester:94\n",
            "Current semester's total GPA:33.0\n",
            "Current semester's CGPA:3.2898936170212765\n"
          ]
        }
      ]
    },
    {
      "cell_type": "code",
      "metadata": {
        "id": "7MvSvElG030h",
        "colab": {
          "base_uri": "https://localhost:8080/"
        },
        "outputId": "94476387-10ae-4a7f-cef0-e48ea4613b92"
      },
      "source": [
        "#                Question 3\n",
        "# -----------------------------------------\n",
        "\n",
        "def main(text):\n",
        "  \n",
        "  count = 0\n",
        "  new = text\n",
        "\n",
        "  for i in text:\n",
        "    for j in text:\n",
        "      if i==j:\n",
        "        count+=1\n",
        "    \n",
        "    if count>1:\n",
        "      new = new.replace(i,\"#\",count)\n",
        "    count = 0\n",
        "\n",
        "  print(new)\n",
        "\n",
        "\n",
        "main('prominent')\n",
        "\n",
        "\n"
      ],
      "execution_count": 34,
      "outputs": [
        {
          "output_type": "stream",
          "name": "stdout",
          "text": [
            "promi#e#t\n"
          ]
        }
      ]
    },
    {
      "cell_type": "code",
      "metadata": {
        "id": "YI8X-t5DGv2W"
      },
      "source": [
        ""
      ],
      "execution_count": null,
      "outputs": []
    }
  ]
}