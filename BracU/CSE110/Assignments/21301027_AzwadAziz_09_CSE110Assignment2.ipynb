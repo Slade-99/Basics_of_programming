{
  "nbformat": 4,
  "nbformat_minor": 0,
  "metadata": {
    "kernelspec": {
      "display_name": "Python 3",
      "language": "python",
      "name": "python3"
    },
    "language_info": {
      "codemirror_mode": {
        "name": "ipython",
        "version": 3
      },
      "file_extension": ".py",
      "mimetype": "text/x-python",
      "name": "python",
      "nbconvert_exporter": "python",
      "pygments_lexer": "ipython3",
      "version": "3.7.6"
    },
    "colab": {
      "name": "21301027_AzwadAziz_09_CSE110Assignment2.ipynb",
      "provenance": [],
      "collapsed_sections": []
    }
  },
  "cells": [
    {
      "cell_type": "markdown",
      "metadata": {
        "id": "4wbfWEkOSK4T"
      },
      "source": [
        "# CSE110 Assignment 2 \n",
        "\n",
        "This assignment is to guide in solving basic programming problems using loop in Python. \n",
        "\n",
        "\n",
        "\n",
        "\n",
        "##Write your name, student ID and theory section number below:\n"
      ]
    },
    {
      "cell_type": "code",
      "metadata": {
        "id": "TUld3qrMgsFR"
      },
      "source": [
        "#STUDENT NAME: Azwad Aziz\n",
        "#STUDENT ID: 21301027\n",
        "#CSE110 SECTION: 09"
      ],
      "execution_count": null,
      "outputs": []
    },
    {
      "cell_type": "markdown",
      "metadata": {
        "id": "w269kMywSK4V"
      },
      "source": [
        "## Write the code in Python for following problems:\n",
        "\n",
        "**<font color='red'>[MUST MAINTAIN VARIABLE NAMING CONVENTIONS FOR ALL THE TASKS]</font>**\n",
        "\n",
        "### Task 1\n",
        "\n",
        "Write python program, which prints the following sequences of values in loops:\n",
        "\n",
        "a)\t24, 18, 12, 6, 0, -6\\\n",
        "b)\t-10, -5, 0, 5, 10, 15, 20\\\n",
        "c)\t18, 27, 36, 45, 54, 63\\\n",
        "d)\t18,-27, 36,-45,54,-63\n",
        "\n",
        "=====================================================================\n",
        "\n",
        "**Hints(1):** Use a while loop for solving these problems.\n",
        "\n",
        "**Hints(2):** We are already familiar with the print() function. But when we use it to print any value it automatically adds an additional newline after each print statement.\n",
        "\n",
        "For example:\\\n",
        "print(1)\\\n",
        "print(2)\n",
        "\n",
        "Output:\\\n",
        "1\\\n",
        "2\n",
        "\n",
        "=====================================================================\n",
        "\n",
        "To solve this problem, in Python3, we need to add an extra argument (end = \" \") in the print function which tells the program to skip printing the additional newline.\n",
        "\n",
        "For example:\\\n",
        "print(1, end =\" \")\\\n",
        "print(2)\n",
        "\n",
        "Output:(prints the next output right to the previous one)\\\n",
        "12\n",
        "\n",
        "=====================================================================\n",
        "\n",
        "In Task-1(a), the loop counter should be initialized at 24 and the loop should terminate when the loop counter reaches -6. The difference between the first two values is 24-18=6. So the loop counter value is getting decremented by 6 in every iteration.\n",
        "\n",
        "For your understanding task 1(a) code is done for you.\n"
      ]
    },
    {
      "cell_type": "code",
      "metadata": {
        "id": "H9nuTYCuSK4X",
        "outputId": "e1a08b2f-ccc1-4896-b1ec-5904ba1945d5"
      },
      "source": [
        "# a) 24, 18, 12, 6, 0, -6\n",
        "\n",
        "# initialize loop counter\n",
        "counter = 24\n",
        "\n",
        "# loop structure\n",
        "while counter >= -6:\n",
        "    \n",
        "    #inside loop body\n",
        "    if counter == -6:\n",
        "        print(counter, end = \"\") \n",
        "    else:\n",
        "        print(counter, end = \", \") \n",
        "     \n",
        "    counter = counter - 6 #updating loop counter\n",
        "    #inside loop body\n",
        "    \n",
        "#outside loop body"
      ],
      "execution_count": null,
      "outputs": [
        {
          "output_type": "stream",
          "text": [
            "24, 18, 12, 6, 0, -6"
          ],
          "name": "stdout"
        }
      ]
    },
    {
      "cell_type": "code",
      "metadata": {
        "id": "YWLB_TuLSK4h",
        "colab": {
          "base_uri": "https://localhost:8080/"
        },
        "outputId": "be2b7996-7514-447f-f428-098672332f2a"
      },
      "source": [
        "# b)-10, -5, 0, 5, 10, 15, 20\n",
        "value = -10\n",
        "while value<=20:\n",
        "  if value==20:\n",
        "    print(value)\n",
        "  else:\n",
        "    print(value , end=\", \")  \n",
        "  value +=5  "
      ],
      "execution_count": null,
      "outputs": [
        {
          "output_type": "stream",
          "text": [
            "-10, -5, 0, 5, 10, 15, 20\n"
          ],
          "name": "stdout"
        }
      ]
    },
    {
      "cell_type": "code",
      "metadata": {
        "id": "b5blHg8zSK4n",
        "colab": {
          "base_uri": "https://localhost:8080/"
        },
        "outputId": "fb2e214f-8c1b-436d-d435-ff8db24eba35"
      },
      "source": [
        "# c)18, 27, 36, 45, 54, 63\n",
        "value = 18\n",
        "while value<=63:\n",
        "  if value==63:\n",
        "    print(value)\n",
        "  else:\n",
        "    print(value , end=\", \")  \n",
        "  value +=9  "
      ],
      "execution_count": null,
      "outputs": [
        {
          "output_type": "stream",
          "text": [
            "18, 27, 36, 45, 54, 63\n"
          ],
          "name": "stdout"
        }
      ]
    },
    {
      "cell_type": "markdown",
      "metadata": {
        "id": "VlRJZhqVSK4v"
      },
      "source": [
        "**Hints for 1(d):** \n",
        "\n",
        "print(5 * (-1)) gives output -5\\\n",
        "print(\"-\" + str(5)) gives output -5"
      ]
    },
    {
      "cell_type": "code",
      "metadata": {
        "id": "lA6BDPaaSK4v",
        "colab": {
          "base_uri": "https://localhost:8080/"
        },
        "outputId": "5e2a1168-c409-462b-bb25-853e1446746a"
      },
      "source": [
        "# d)18,-27, 36,-45,54,-63\n",
        "value = 18\n",
        "\n",
        "while value>=-63:\n",
        "  if value==-63:\n",
        "    print(value)\n",
        "    break\n",
        "  elif value>0:\n",
        "    print(value , end=\", \")\n",
        "    value += 9\n",
        "    value *= -1\n",
        "  elif value<0:\n",
        "    print(value , end=\", \")\n",
        "    value -= 9\n",
        "    value *= -1\n",
        "\n",
        "\n",
        "\n",
        "\n",
        "\n",
        "\n"
      ],
      "execution_count": null,
      "outputs": [
        {
          "output_type": "stream",
          "text": [
            "18, -27, 36, -45, 54, -63\n"
          ],
          "name": "stdout"
        }
      ]
    },
    {
      "cell_type": "markdown",
      "metadata": {
        "id": "fB7DLiLjSK41"
      },
      "source": [
        "====================================================================\\\n",
        "<font color='blue'>\n",
        "All the tasks can be solved using both the \"while loop\" and the \"for loop\". But you need to choose the best looping construct which is the most suitable for solving a particular task.\n",
        "</font>\n",
        "\n",
        "===================================================================="
      ]
    },
    {
      "cell_type": "markdown",
      "metadata": {
        "id": "RGkTLNE8SK43"
      },
      "source": [
        "### Task 2\n",
        "Write a Python code for the following:\n",
        "\n",
        "1)\tAsk the user to enter the name of his favorite car.\\\n",
        "2)\tAsk the user to enter a Number\n",
        "\n",
        "Display the name of the user’s favorite car, the number of times specified in the second step.\n",
        "\n",
        "==========================================================\n",
        "\n",
        "**Example 01:** If the user enters “Toyota” and 20, your program should print the name “Toyota” twenty times.\n",
        "\n",
        "**Input:**\\\n",
        "Toyota\\\n",
        "2\n",
        "\n",
        "**Output:**\\\n",
        "Toyota\\\n",
        "Toyota\n",
        "\n",
        "==========================================================\n",
        "\n",
        "**Example02:** If the user enters “Veyron” and 5, your program should print the name “Veyron” five times.\n",
        "\n",
        "**Input:**\\\n",
        "Veyron\\\n",
        "5\n",
        "\n",
        "**Output:**\\\n",
        "Veyron\\\n",
        "Veyron\\\n",
        "Veyron\\\n",
        "Veyron\\\n",
        "Veyron\n"
      ]
    },
    {
      "cell_type": "code",
      "metadata": {
        "id": "u5yX33mvSK45",
        "colab": {
          "base_uri": "https://localhost:8080/"
        },
        "outputId": "b01bfd19-aa3b-4ecc-da0d-d1b4e29a790a"
      },
      "source": [
        "#Todo\n",
        "car_name = input(\"Enter the name of your car\\n\")\n",
        "num_1 = int(input(\"Enter a number\\n\"))\n",
        "for fx in range(num_1):\n",
        "  print(car_name)"
      ],
      "execution_count": null,
      "outputs": [
        {
          "output_type": "stream",
          "text": [
            "Enter the name of your car\n",
            "Lancer\n",
            "Enter a number\n",
            "5\n",
            "Lancer\n",
            "Lancer\n",
            "Lancer\n",
            "Lancer\n",
            "Lancer\n"
          ],
          "name": "stdout"
        }
      ]
    },
    {
      "cell_type": "markdown",
      "metadata": {
        "id": "xT0l0U35SK5A"
      },
      "source": [
        "### Task 3\n",
        "Write a Python code of a program that adds all numbers that are multiples of **both 7 and 9** up to 600 (including 600).\n",
        "\n",
        "Output: 2835\n"
      ]
    },
    {
      "cell_type": "code",
      "metadata": {
        "id": "Q6dix8WhSK5B",
        "colab": {
          "base_uri": "https://localhost:8080/"
        },
        "outputId": "6acfab5f-f3cb-4875-cd4e-bfcb7cac6a28"
      },
      "source": [
        "#Todo\n",
        "summation = 0\n",
        "value = 0 \n",
        "while value<=600:\n",
        "  value +=1\n",
        "  if value % 63 == 0:\n",
        "    summation +=value\n",
        "  else:\n",
        "    continue  \n",
        "\n",
        "print(summation)  \n"
      ],
      "execution_count": null,
      "outputs": [
        {
          "output_type": "stream",
          "text": [
            "2835\n"
          ],
          "name": "stdout"
        }
      ]
    },
    {
      "cell_type": "markdown",
      "metadata": {
        "id": "8swUoCy9SK5F"
      },
      "source": [
        "### Task 4\n",
        "Write a Python code of a program that adds all numbers that are multiples of **either 7 or 9** up to 600(including 600). \\\n",
        "Ensure that numbers like 63 are added only once in the sum.\n",
        "\n",
        "Output: 42649\n"
      ]
    },
    {
      "cell_type": "code",
      "metadata": {
        "id": "pbIA-waFSK5G",
        "colab": {
          "base_uri": "https://localhost:8080/"
        },
        "outputId": "82ac8c8b-fc74-45e8-f3a6-d9703af0c443"
      },
      "source": [
        "#Todo\n",
        "\n",
        "summation = 0\n",
        "value = 0 \n",
        "while value<=600:\n",
        "  value +=1\n",
        "  if value % 9 == 0:\n",
        "    summation +=value\n",
        "  elif value%7 == 0:\n",
        "    summation +=value\n",
        "  else:\n",
        "    continue  \n",
        "\n",
        "print(summation)  \n",
        "\n"
      ],
      "execution_count": null,
      "outputs": [
        {
          "output_type": "stream",
          "text": [
            "42649\n"
          ],
          "name": "stdout"
        }
      ]
    },
    {
      "cell_type": "markdown",
      "metadata": {
        "id": "H3hLyguASK5L"
      },
      "source": [
        "### Task 5\n",
        "Write a Python code of a program that adds all numbers that are multiples of **either 7 or 9 but not both**, up to 600(including 600).\n",
        "\n",
        "Output: 39814\n"
      ]
    },
    {
      "cell_type": "code",
      "metadata": {
        "id": "LiAvUr1QSK5M",
        "colab": {
          "base_uri": "https://localhost:8080/"
        },
        "outputId": "18d10db6-e667-435f-f87e-d703cafdae67"
      },
      "source": [
        "#Todo\n",
        "\n",
        "summation = 0\n",
        "value = 0 \n",
        "while value<=600:\n",
        "  value +=1\n",
        "  if value % 63 == 0:\n",
        "    continue\n",
        "  elif value % 9 == 0:\n",
        "    summation +=value\n",
        "  elif value%7 == 0:\n",
        "    summation +=value\n",
        "  else:\n",
        "    continue  \n",
        "\n",
        "print(summation)  \n"
      ],
      "execution_count": null,
      "outputs": [
        {
          "output_type": "stream",
          "text": [
            "39814\n"
          ],
          "name": "stdout"
        }
      ]
    },
    {
      "cell_type": "markdown",
      "metadata": {
        "id": "8SmvPvfaSK5P"
      },
      "source": [
        "### Task 6\n",
        "Write a Python code to displays all the **odd numbers** between 10 and 50.\n",
        "\n",
        "Output: 11 13 15 17 19 21 23 25 27 29 31 33 35 37 39 41 43 45 47 49\n"
      ]
    },
    {
      "cell_type": "code",
      "metadata": {
        "id": "PJmT9fvuSK5Q",
        "colab": {
          "base_uri": "https://localhost:8080/"
        },
        "outputId": "6a68c6a0-5c0e-4382-ebe6-2555753aa355"
      },
      "source": [
        "value = 10\n",
        "\n",
        "\n",
        "while 10 <= value <= 50:\n",
        "    if value % 2 == 1:\n",
        "        print(value , end=\" \")\n",
        "    value +=1    \n",
        "\n"
      ],
      "execution_count": null,
      "outputs": [
        {
          "output_type": "stream",
          "text": [
            "11 13 15 17 19 21 23 25 27 29 31 33 35 37 39 41 43 45 47 49 "
          ],
          "name": "stdout"
        }
      ]
    },
    {
      "cell_type": "markdown",
      "metadata": {
        "id": "Nw4dX_MeSK5V"
      },
      "source": [
        "### Task 7\n",
        "Write a Python code that will calculate the **value of y if the expression** of y is as follows (n is the input):  \n",
        "\n",
        "$y = 1^2 - 2^2 +3^2 -4^2 +5^2 .........+ n^2 $\n",
        "\n",
        "\n",
        "==========================================================\n",
        "\n",
        "**Example01:** \n",
        "\n",
        "**Input:**\\\n",
        "10\n",
        "\n",
        "**Output:**\\\n",
        "-55\n",
        "\n",
        "==========================================================\n",
        "\n",
        "**Example02:** \n",
        "\n",
        "**Input:**\\\n",
        "20\n",
        "\n",
        "**Output:**\\\n",
        "-210\n",
        "\n"
      ]
    },
    {
      "cell_type": "code",
      "metadata": {
        "id": "BbJe-7AuSK5V",
        "colab": {
          "base_uri": "https://localhost:8080/"
        },
        "outputId": "e1283704-bbd4-46e8-ea45-3dad4e995f94"
      },
      "source": [
        "#Todo\n",
        "n = int(input(\"Enter a number\"))\n",
        "\n",
        "x =[]\n",
        "\n",
        "for i in range(1,n+1):\n",
        "    if i % 2 == 0:\n",
        "        x.append(-1*(i**2))\n",
        "    else:\n",
        "        x.append(i**2)    \n",
        "y = 0\n",
        "for fx in x:\n",
        "    y += fx\n",
        "\n",
        "\n",
        "print(y)\n"
      ],
      "execution_count": null,
      "outputs": [
        {
          "output_type": "stream",
          "text": [
            "Enter a number20\n",
            "-210\n"
          ],
          "name": "stdout"
        }
      ]
    },
    {
      "cell_type": "markdown",
      "metadata": {
        "id": "SgvBqJ9PSK5l"
      },
      "source": [
        "### Task 8\n",
        "\n",
        "Write a Python code of a program that asks the user to enter ten numbers then display the total and the average of **ONLY** the **odd numbers** among those ten numbers. <font color='red'>[Use of list is completely unnecesary for this task]</font>\n",
        "\n",
        "==========================================================\n",
        "\n",
        "**Example01:** \n",
        "\n",
        "**Input:**\\\n",
        "1\n",
        "\n",
        "2\n",
        "\n",
        "3\n",
        "\n",
        "4\n",
        "\n",
        "5\n",
        "\n",
        "6\n",
        "\n",
        "7\n",
        "\n",
        "8\n",
        "\n",
        "9\n",
        "\n",
        "10\n",
        "\n",
        "**Output:**\n",
        "Total is 25 and Average is 5.0\n",
        "\n",
        "\n",
        "**Explanation:**\n",
        "\n",
        "Total is 25 = (1+3+5+7+9) and Average is 25/5 = 5.0\n",
        "\n",
        "==========================================================\n",
        "\n",
        "\n",
        "**Example02:** \n",
        "\n",
        "**Input:**\\\n",
        "-20\n",
        "\n",
        "3\n",
        "\n",
        "-5\n",
        "\n",
        "40\n",
        "\n",
        "-17\n",
        "\n",
        "9\n",
        "\n",
        "20\n",
        "\n",
        "-8\n",
        "\n",
        "99\n",
        "  \n",
        "-200\n",
        "\n",
        "**Output:**\n",
        "\n",
        "Total is 89 and Average is 17.8\n",
        "\n",
        "\n",
        "**Explanation:**\n",
        "\n",
        "Total is 89 =(3+(-5)+(-17)+9+99) and Average is 89/5 = 17.8\n",
        "\n"
      ]
    },
    {
      "cell_type": "code",
      "metadata": {
        "id": "c0akirXXSK5m",
        "colab": {
          "base_uri": "https://localhost:8080/"
        },
        "outputId": "c1e797f7-9df0-4294-8276-bf77f8014dd7"
      },
      "source": [
        "#Todo\n",
        "x = 0\n",
        "total = 0\n",
        "count = 0\n",
        "while x<=9:\n",
        "    \n",
        "    num = int(input(\"Please enter a number\\n\"))\n",
        "    if num % 2 == 1:\n",
        "        total += num\n",
        "        count += 1\n",
        "    x += 1\n",
        "\n",
        "\n",
        "print(f\"Total is {total} and Average is {total/count}\")      \n",
        "\n",
        "\n"
      ],
      "execution_count": null,
      "outputs": [
        {
          "output_type": "stream",
          "text": [
            "Please enter a number\n",
            "1\n",
            "Please enter a number\n",
            "2\n",
            "Please enter a number\n",
            "3\n",
            "Please enter a number\n",
            "4\n",
            "Please enter a number\n",
            "5\n",
            "Please enter a number\n",
            "6\n",
            "Please enter a number\n",
            "7\n",
            "Please enter a number\n",
            "8\n",
            "Please enter a number\n",
            "9\n",
            "Please enter a number\n",
            "10\n",
            "Total is 25 and Average is 5.0\n"
          ],
          "name": "stdout"
        }
      ]
    },
    {
      "cell_type": "markdown",
      "metadata": {
        "id": "cGdMk_vuSK5s"
      },
      "source": [
        "### Task 9\n",
        "Write a Python code for the following:\n",
        "* Ask the user to enter a Number, N\n",
        "* Display the summation of multiples of 7 up to that number (**from 1 to N inclusive**)\n",
        "\n",
        "==========================================================\n",
        "\n",
        "**Example01:** \n",
        "\n",
        "**Input:**\\\n",
        "50\n",
        "\n",
        "**Output:**\\\n",
        "196\n",
        "\n",
        "**Explanation:**\\\n",
        "7 + 14 + 21 + 28 + 35 + 42 + 49 = 196\n",
        "\n",
        "==========================================================\n",
        "\n",
        "**Example02:** \n",
        "\n",
        "**Input:**\\\n",
        "75\n",
        "\n",
        "**Output:**\\\n",
        "385\n",
        "\n",
        "**Explanation:**\\\n",
        "7 + 14 + 21 + 28 + 35 + 42 + 49 + 56 + 63 + 70 = 385\n",
        "\n",
        "\n",
        "\n"
      ]
    },
    {
      "cell_type": "code",
      "metadata": {
        "id": "zLsrA8dSSK5t",
        "colab": {
          "base_uri": "https://localhost:8080/"
        },
        "outputId": "cb3b5157-459d-4ab8-955d-09d2ce91dc76"
      },
      "source": [
        "#Todo\n",
        "N = int(input(\"Enter a number\\n\"))\n",
        "num = 1\n",
        "total = 0\n",
        "while num <= N:\n",
        "  if num % 7 == 0:\n",
        "    total += num \n",
        "  num += 1\n",
        "\n",
        "print(total)      "
      ],
      "execution_count": null,
      "outputs": [
        {
          "output_type": "stream",
          "text": [
            "Enter a number50\n",
            "196\n"
          ],
          "name": "stdout"
        }
      ]
    },
    {
      "cell_type": "markdown",
      "metadata": {
        "id": "OZ9pVIvhSK5w"
      },
      "source": [
        "### Task 10\n",
        "Write a Python code that will read 10 numbers from the user, and then print the first number, the sum of the first 2 numbers, the sum of the first 3 numbers, and so on up to the sum of 10 numbers.\n",
        "\n",
        "==========================================================\n",
        "\n",
        "\n",
        "For example,\n",
        "\n",
        "The user enters 10, output 10, then \\\n",
        "The user enters 2, (10+2) = 12, output 12, then \\\n",
        "The user enters 4, (10+2+4) = 16, output 16, then \\\n",
        "The user enters 20, (10+2+4+20) = 36, output 36, and continues till the 10$^{th}$ input\n"
      ]
    },
    {
      "cell_type": "code",
      "metadata": {
        "id": "FCwYrfGGSK5w",
        "colab": {
          "base_uri": "https://localhost:8080/"
        },
        "outputId": "471bde99-fe5e-42e7-8f1d-b7b449c9fdbf"
      },
      "source": [
        "#Todo\n",
        "x = 1\n",
        "result = 0 \n",
        "while x<=10:\n",
        "    num = int(input())\n",
        "    result += num\n",
        "    print(f\"output {result}\")\n",
        "    x += 1\n",
        "\n"
      ],
      "execution_count": null,
      "outputs": [
        {
          "output_type": "stream",
          "text": [
            "1\n",
            "output 1\n",
            "2\n",
            "output 3\n",
            "3\n",
            "output 6\n",
            "4\n",
            "output 10\n",
            "5\n",
            "output 15\n",
            "6\n",
            "output 21\n",
            "7\n",
            "output 28\n",
            "8\n",
            "output 36\n",
            "9\n",
            "output 45\n",
            "10\n",
            "output 55\n"
          ],
          "name": "stdout"
        }
      ]
    },
    {
      "cell_type": "markdown",
      "metadata": {
        "id": "xWxrM53vvfUV"
      },
      "source": [
        "\n",
        "\n",
        "\n",
        "### Task 11\n",
        "Write a Python program which takes a number and prints the digits from the unit place, then the tenth, then hundredth, etc. <font color='red'>(Right to Left)</font>\n",
        "\n",
        "<font color='red'>[Consider the input number to be an INTEGER. You are not allowed to use String indexing for solving this task]</font>\n",
        "\n",
        "**Example:** If the user gives 32768, then print 8, 6, 7, 2, 3 \n",
        "\n",
        "=========================================================================\n",
        "\n",
        "**Hint (1):**  The input() function, converts the input data to String data type by default. Use this knowledge to solve this problem.\n",
        "\n",
        "\n",
        "**Hint  (2):** First to get the digit from the right side, take the remainder of the number using modulus (%) operator and print the digit. For dropping the last digit, perform floor division by 10 on the number. Then start over.\n",
        "\n",
        "32,768 % 10 = 8 \n",
        "\n",
        "32,768 // 10 = 3, 276 \n",
        "\n",
        "3, 276 % 10 = 6\n",
        "\n",
        "3, 276 // 10 = 327 \n",
        "\n",
        "327 % 10 = 7 \n",
        "\n",
        "327 // 10 = 32 \n",
        "\n",
        "32 % 10 = 2 \n",
        "\n",
        "32 //10 = 3 \n",
        "\n",
        "3 % 10 = 3 \n",
        "\n",
        "3 // 10 = 0 \n",
        "\n",
        "Done! When the number becomes 0 your loop should end.\n",
        "\n"
      ]
    },
    {
      "cell_type": "code",
      "metadata": {
        "id": "2Ntfdr2tv230",
        "colab": {
          "base_uri": "https://localhost:8080/"
        },
        "outputId": "9bff663b-6502-4201-b374-b27323f30422"
      },
      "source": [
        "#Todo\n",
        "value = int(input(\"Enter a number\\n\"))\n",
        "\n",
        "while value != 0:\n",
        "  if value>10:\n",
        "    print(value%10 , end=\", \")\n",
        "  else:\n",
        "    print(value%10)  \n",
        "  value //= 10"
      ],
      "execution_count": null,
      "outputs": [
        {
          "output_type": "stream",
          "text": [
            "Enter a number\n",
            "32768\n",
            "8, 6, 7, 2, 3\n"
          ],
          "name": "stdout"
        }
      ]
    },
    {
      "cell_type": "markdown",
      "metadata": {
        "id": "VIeR6DT9SK53"
      },
      "source": [
        "### Task 12\n",
        "\n",
        "Write a Python program that takes a number and tells how many digits are in that number. \\\n",
        "<font color='red'>[Consider the input number to be an INTEGER.]</font>\n",
        "\n",
        "<font color='red'>You are not allowed to use len() function</font>\n",
        "\n",
        "**Example:** If the user gives 9876, you should print 4. \n",
        "\n",
        "\n",
        "\n",
        "**Hint:** Keep floor dividing by ten and count how many times this could be divided. \n",
        "\n",
        "9876 floor divide by 10, is 987, count that got 1 digit (total 1) \\\n",
        "987 floor divide by 10, is 98, count that got 1 digit (total 2) \\\n",
        "98 floor divide by 10, is 9, count that got 1 digit (total 3) \\\n",
        "9 floor divide by 10, is 0, count that got 1 digit (total 4) \n",
        "\n",
        "Done! (When the number becomes 0 your loop should end.)\n",
        "\n"
      ]
    },
    {
      "cell_type": "code",
      "metadata": {
        "id": "6uX3wr_gSK51",
        "colab": {
          "base_uri": "https://localhost:8080/"
        },
        "outputId": "e056af75-3c74-4bd1-fb37-5452187cee4a"
      },
      "source": [
        "#Todo\n",
        "num_1 = int(input(\"Enter a number\"))\n",
        "count = 0\n",
        "while num_1 != 0:\n",
        "  num_1 //= 10\n",
        "  count += 1\n",
        "print(count)  \n",
        "\n"
      ],
      "execution_count": 65,
      "outputs": [
        {
          "output_type": "stream",
          "text": [
            "Enter a number9876\n",
            "4\n"
          ],
          "name": "stdout"
        }
      ]
    },
    {
      "cell_type": "markdown",
      "metadata": {
        "id": "dUsVuzILSK50"
      },
      "source": [
        "### Task 13\n",
        "Write a Python program that takes a number from the user and prints its digits from left to right. <font color='red'> (left to right) </font>\n",
        "\n",
        "<font color='red'>[Consider the input number to be an INTEGER. You are not allowed to use String indexing for solving this task]</font>\n",
        "\n",
        "=========================================================================\n",
        "\n",
        "**Example:** if the user gives 32768, then print 3, 2, 7, 6, 8 \n",
        "\n",
        "=========================================================================\n",
        "\n",
        "**Hint(1):**  The input() function, converts the input data to String data type by default. Use this knowledge to solve this problem.\n",
        "\n",
        "**Hint(2):**  \n",
        "\n",
        "Step1: count how many digits\\\n",
        "Step2: calculate 10 to the power that (number of digits) minus 1.\n",
        "\n",
        "Step3: Say, 32768 has 5 digits, so you calculate 10 to the power 4 which is 10,000. Then divide 32,768 by 10,000 and thus you get 3.\\\n",
        "Take remainder of 32,768 by 10,000 and thus you get 2,768 Then divide 10,000 by 10 to get 1,000\\\n",
        "Then divide 2,768 by 1,000 and thus you get 2.\\\n",
        "take remainder of 2,768 by 1,000 and thus you get 768 keep going on until there is no more digits left (zero!).\n",
        "\n",
        "\n",
        "**In short:**\\\n",
        "Loop 1: First count digits, say 5 in this case for 32,768\\\n",
        "Loop 2: Then calculate 10 to the power 4 (5-1), that is 10,000.\\\n",
        "Loop 3: Then repeat following three steps\\\n",
        "32,768 // 10,000 = 3\\\n",
        "32,768 % 10,000 = 2,768 \\\n",
        "10,000//10 = 1,000\n",
        "\n",
        "2,768 // 1,000 = 2\\\n",
        "2,768 % 1,000 = 768\\\n",
        "1,000//10 = 100\n",
        "\n",
        "768 // 100 = 7\\\n",
        "768 % 100 = 68 \\\n",
        "100//10= 10\n",
        "\n",
        "68 //10 = 6\\\n",
        "68 % 10 = 8 \\\n",
        "10//10= 1\n",
        "\n",
        "8 //1 = 8\\\n",
        "8 % 1 = 0 \\\n",
        "1//10=0\n"
      ]
    },
    {
      "cell_type": "code",
      "metadata": {
        "id": "IgqcBx8eSK54",
        "colab": {
          "base_uri": "https://localhost:8080/"
        },
        "outputId": "9722c14c-1f0e-4ccb-9b86-60309f5cbc9e"
      },
      "source": [
        "#Todo\n",
        "num_1 = int(input(\"Enter a number\\n\"))\n",
        "num_2 = num_1\n",
        "count = 0\n",
        "while num_2 != 0:\n",
        "  num_2 //= 10\n",
        "  count += 1\n",
        "\n",
        "for fx in range(count-1 , -1 , -1):\n",
        "  if fx>0:\n",
        "    num_3 =num_1 // ( 10**(fx))\n",
        "    print(num_3 , end=\", \")\n",
        "    num_1 = num_1 - (num_3*(10**fx))\n",
        "  else:\n",
        "    num_3 =num_1 // ( 10**(fx))\n",
        "    print(num_3)\n",
        "    num_1 = num_1 - (num_3*(10**fx))  \n",
        "\n"
      ],
      "execution_count": null,
      "outputs": [
        {
          "output_type": "stream",
          "text": [
            "Enter a number\n",
            "32768\n",
            "3, 2, 7, 6, 8\n"
          ],
          "name": "stdout"
        }
      ]
    },
    {
      "cell_type": "markdown",
      "metadata": {
        "id": "fTbwwo3mSK6A"
      },
      "source": [
        "### Task 14\n",
        "\n",
        "Write a Python program that takes a number from the user and prints the divisors of that number and then print how many divisors were there.\n",
        "<font color='red'>[The input number has to be an INTEGER]</font>\n",
        "\n",
        "==========================================================\n",
        "\n",
        "**Example01:** \n",
        "\n",
        "**Input:**\\\n",
        "6\n",
        "\n",
        "**Output:**\\\n",
        "1, 2, 3, 6 \\\n",
        "Total 4 divisors.\n",
        "\n",
        "\n",
        "==========================================================\n",
        "\n",
        "**Example02:** \n",
        "\n",
        "**Input:**\\\n",
        "121\n",
        "\n",
        "**Output:**\\\n",
        "1, 11, 121 \\\n",
        "Total 3 divisors.\n",
        "\n",
        "\n"
      ]
    },
    {
      "cell_type": "code",
      "metadata": {
        "id": "aFSd6sYXSK6A",
        "colab": {
          "base_uri": "https://localhost:8080/"
        },
        "outputId": "603d1a19-2c21-4dea-9a59-1245dfce650f"
      },
      "source": [
        "#Todo\n",
        "num_1 = int(input(\"Enter a number\\n\"))\n",
        "count = 0 \n",
        "for fx in range(1,num_1 + 1):\n",
        "  if num_1 % fx == 0:\n",
        "    count +=1\n",
        "  else:\n",
        "    continue\n",
        "print(f\"Total {count} divisors.\")      "
      ],
      "execution_count": null,
      "outputs": [
        {
          "output_type": "stream",
          "text": [
            "Enter a number121\n",
            "Total 3 divisors.\n"
          ],
          "name": "stdout"
        }
      ]
    },
    {
      "cell_type": "markdown",
      "metadata": {
        "id": "swvpit_vSK6E"
      },
      "source": [
        "### Task 15\n",
        "Write a Python program that takes a number and tells if it is a perfect number or not. <font color='red'>[The input number has to be an INTEGER]</font>\n",
        "\n",
        "**Perfect Number:** An integer number is said to be a perfect number if its factors, including 1 but not the number itself, sum to the number.\n",
        "\n",
        "==========================================================\n",
        "\n",
        "**Example01:** \n",
        "\n",
        "**Input:**\\\n",
        "6\n",
        "\n",
        "**Output:**\\\n",
        "6 is a perfect number\n",
        "\n",
        "**Explanation:**\\\n",
        "6 have 4 divisors: 1, 2, 3, and 6. \\\n",
        "If we add all factors except itself, 6 = 1 + 2 + 3.\n",
        "\n",
        "==========================================================\n",
        "\n",
        "\n",
        "**Example02:** \n",
        "\n",
        "**Input:**\\\n",
        "28\n",
        "\n",
        "**Output:**\\\n",
        "28 is a perfect number\n",
        "\n",
        "**Explanation:**\\\n",
        "28 have 6 divisors: 1, 2, 4, 7, 14, and 28. \\\n",
        "If we add all factors except itself, 28 = 1 + 2 + 4 + 7 + 14.\n",
        "\n",
        "==========================================================\n",
        "\n",
        "**Example03:** \n",
        "\n",
        "**Input:**\\\n",
        "33\n",
        "\n",
        "**Output:**\\\n",
        "33 is not a perfect number\n",
        "\n",
        "**Explanation:**\\\n",
        "33 have 3 divisors: 1, 3, 11, and 33. \\\n",
        "If we add all factors except itself, 15 = 1 + 3 + 11.\n",
        "\n"
      ]
    },
    {
      "cell_type": "code",
      "metadata": {
        "id": "WxrTdQ67SK6E",
        "colab": {
          "base_uri": "https://localhost:8080/"
        },
        "outputId": "f2c2a1a3-347c-47d4-fc61-d71032f62a1f"
      },
      "source": [
        "#Todo\n",
        "num_1 = int(input(\"Enter a number\\n\"))\n",
        "count = 0 \n",
        "for fx in range(1,num_1):\n",
        "  if num_1 % fx == 0:\n",
        "    count += fx\n",
        "  else:\n",
        "    continue\n",
        "if count==num_1:\n",
        "  print(f\"{num_1} is a perfect number\") \n",
        "else:\n",
        "  print(f\"{num_1} is not a perfect number\")   \n",
        "\n"
      ],
      "execution_count": null,
      "outputs": [
        {
          "output_type": "stream",
          "text": [
            "Enter a number28\n",
            "28 is a perfect number\n"
          ],
          "name": "stdout"
        }
      ]
    },
    {
      "cell_type": "markdown",
      "metadata": {
        "id": "JunF6mTuSK6H"
      },
      "source": [
        "### Task 16\n",
        "\n",
        "Write a Python program that asks the user for one number and tells if it is a prime number or not. <font color='red'>[The input number has to be an INTEGER]</font>\n",
        "\n",
        "**Prime Number:** If a number has only two divisors, (1 and itself), then it is prime. If it is divisible by more numbers, then it is not a prime.\n",
        "\n",
        "==========================================================\n",
        "\n",
        "**Hint:** use the divisor count from task 16. \n",
        "\n",
        "==========================================================\n",
        "\n",
        "**Example01:** \n",
        "\n",
        "**Input:**\\\n",
        "11\n",
        "\n",
        "**Output:**\\\n",
        "11 is a prime number\n",
        "\n",
        "**Explanation:**\\\n",
        "11 has only 2 divisors: 1, and 11.\n",
        "\n",
        "==========================================================\n",
        "\n",
        "**Example02:** \n",
        "\n",
        "**Input:**\\\n",
        "6\n",
        "\n",
        "**Output:**\\\n",
        "6 is not a prime number\n",
        "\n",
        "**Explanation:**\\\n",
        "6 have 4 divisors: 1, 2, 3 and 6.\n",
        "\n",
        "\n",
        "\n",
        "\n"
      ]
    },
    {
      "cell_type": "code",
      "metadata": {
        "id": "s_UhmEARSK6I",
        "colab": {
          "base_uri": "https://localhost:8080/"
        },
        "outputId": "56f4e987-6762-417e-fc23-349ad1f6ec99"
      },
      "source": [
        "#Todo\n",
        "num_1 = int(input(\"Please enter a number\\n\"))\n",
        "count = 0\n",
        "for fx in range(2,num_1):\n",
        "  if num_1 % fx == 0:\n",
        "    count +=1\n",
        "\n",
        "if count>0:\n",
        "  print(f\"{num_1} is a not prime number\") \n",
        "else:\n",
        "  print(f\"{num_1} is a prime number\")\n",
        "\n",
        "\n",
        "\n"
      ],
      "execution_count": null,
      "outputs": [
        {
          "output_type": "stream",
          "text": [
            "Please enter a number\n",
            "6\n",
            "6 is a not prime number\n"
          ],
          "name": "stdout"
        }
      ]
    },
    {
      "cell_type": "markdown",
      "metadata": {
        "id": "2LrNlU1XSK6L"
      },
      "source": [
        "### Task 17\n",
        "\n",
        "Write a Python program that asks the user for a quantity then takes that many numbers and prints the maximum, minimum and average of those numbers. \n",
        "\n",
        "**<font color='red'>[CANNOT USE MAX,MIN BUILT-IN FUNCTIONS][FOR THIS TASK YOU DO NOT NEED TO USE LISTS]</font>** \n",
        "\n",
        "==========================================================\n",
        "\n",
        "**Example01:** If the user enters 5 as an input for quantity. Then enters 10, 4, -1, -100, and 1. \\\n",
        "Your program output should be: “Maximum 10”, “Minimum -100”, “Average is -17.2”\n",
        "\n",
        "**Input:**\\\n",
        "5\n",
        "10\n",
        "4\n",
        "-1\n",
        "-100\n",
        "1.\n",
        "\n",
        "**Output:**\\\n",
        "Maximum 10\\\n",
        "Minimum -100\\\n",
        "Average is -17.2\n",
        "\n",
        "**Explanation:**\\\n",
        "Average calculation: (10+4 + (-1) + (-100) + 1)/5 = -86/5=-17.2\n",
        "\n"
      ]
    },
    {
      "cell_type": "code",
      "metadata": {
        "id": "TK68v25sSK6L",
        "colab": {
          "base_uri": "https://localhost:8080/"
        },
        "outputId": "62a15aa8-12f2-4d5f-b8a5-8a2868df9355"
      },
      "source": [
        "#Todo\n",
        "\n",
        "quant_1 = int(input(\"Enter the quantity\\n\"))\n",
        "max = 0\n",
        "min = float('inf')\n",
        "total = 0\n",
        "for fx in range(quant_1):\n",
        "  num_1 = int(input(\"Enter a number\\n\"))\n",
        "  if num_1>max:\n",
        "    max = num_1\n",
        "    \n",
        "\n",
        "  if num_1<min:\n",
        "    min = num_1\n",
        "\n",
        "  total += num_1\n",
        "\n",
        "print(f\"Maximum {max} , Minimum {min} , Average is {total/quant_1} \")\n",
        "\n",
        "\n",
        "\n",
        "\n",
        "\n"
      ],
      "execution_count": 21,
      "outputs": [
        {
          "output_type": "stream",
          "text": [
            "Enter the quantity\n",
            "3\n",
            "Enter a number\n",
            "1\n",
            "Enter a number\n",
            "2\n",
            "Enter a number\n",
            "3\n",
            "Maximum 3 , Minimum 1 , Average is 2.0 \n"
          ],
          "name": "stdout"
        }
      ]
    },
    {
      "cell_type": "markdown",
      "metadata": {
        "id": "QLXvNSiOxhlI"
      },
      "source": [
        "## Task 18\n",
        "\n",
        "Write a python program that prints a square of size N using + where N will be given as input.\n",
        "\n",
        "=======================================\n",
        "\n",
        "**Sample Input**\n",
        "5\n",
        "\n",
        "**Sample Output**<br>\n",
        "+++++<br>\n",
        "+++++<br>\n",
        "+++++<br>\n",
        "+++++<br>\n",
        "+++++<br>\n",
        "\n",
        "\n",
        "=======================================\n",
        "\n",
        "**Sample Input**\n",
        "3\n",
        "\n",
        "**Sample Output**<br>\n",
        "+++<br>\n",
        "+++<br>\n",
        "+++<br>"
      ]
    },
    {
      "cell_type": "code",
      "metadata": {
        "id": "nuU0BJmQwsSa",
        "colab": {
          "base_uri": "https://localhost:8080/"
        },
        "outputId": "20f15feb-c2e9-4298-d306-711b221e23f7"
      },
      "source": [
        "#Todo\n",
        "size = int(input(\"Enter the size\\n\"))\n",
        "\n",
        "for fx in range(size):\n",
        "  print(\"+\"*size)"
      ],
      "execution_count": null,
      "outputs": [
        {
          "output_type": "stream",
          "text": [
            "Enter the size\n",
            "5\n",
            "+++++\n",
            "+++++\n",
            "+++++\n",
            "+++++\n",
            "+++++\n"
          ],
          "name": "stdout"
        }
      ]
    },
    {
      "cell_type": "markdown",
      "metadata": {
        "id": "9tK1-MjFwqM-"
      },
      "source": [
        "### Task 19\n",
        "\n",
        "Write a python program that prints a rectangle of size M (height/line numbers) and N(length/column numbers) using incrementing numbers where M,N will be given as input.\n",
        "\n",
        "===================================\n",
        "\n",
        "**Sample Input**\n",
        "4,6\n",
        "\n",
        "**Sample Output**<br>\n",
        "123456<br>\n",
        "123456<br>\n",
        "123456<br>\n",
        "123456<br>\n",
        "\n",
        "\n",
        "===================================\n",
        "\n",
        "\n",
        "**Sample Input**\n",
        "3,2\n",
        "\n",
        "**Sample Output**<br>\n",
        "12<br>\n",
        "12<br>\n",
        "12<br>\n"
      ]
    },
    {
      "cell_type": "code",
      "metadata": {
        "id": "KcyhD8gNxYdi",
        "colab": {
          "base_uri": "https://localhost:8080/"
        },
        "outputId": "ae1cebbe-e097-432f-ace5-6d1aac1c1ae9"
      },
      "source": [
        "#Todo\n",
        "M =int(input(\"Enter the height\\n\"))\n",
        "N =int(input(\"Enter the length\\n\"))\n",
        "\n",
        "for fx in range(M):\n",
        "  for gx in range(1,N+1):\n",
        "    if gx != N:\n",
        "      print(gx , end=\"\")\n",
        "    else:\n",
        "      print(gx)\n",
        "\n",
        "  \n"
      ],
      "execution_count": null,
      "outputs": [
        {
          "output_type": "stream",
          "text": [
            "Enter the height\n",
            "4\n",
            "Enter the length\n",
            "6\n",
            "123456\n",
            "123456\n",
            "123456\n",
            "123456\n"
          ],
          "name": "stdout"
        }
      ]
    },
    {
      "cell_type": "markdown",
      "metadata": {
        "id": "ReUpRcLuw0_b"
      },
      "source": [
        "### Task 20\n",
        "\n",
        "Write a python program that prints a right angled triangle of height N using incrementing numbers where N will be given as input.\n",
        "\n",
        "====================================\n",
        "\n",
        "**Sample Input**\n",
        "4\n",
        "\n",
        "**Sample Output**<br>\n",
        "1<br>\n",
        "12<br>\n",
        "123<br>\n",
        "1234<br>\n",
        "\n",
        "====================================\n",
        "\n",
        "**Sample Input**\n",
        "5\n",
        "\n",
        "**Sample Output**<br>\n",
        "1<br>\n",
        "12<br>\n",
        "123<br>\n",
        "1234<br>\n",
        "12345<br>"
      ]
    },
    {
      "cell_type": "code",
      "metadata": {
        "id": "UtqBxocnxai9",
        "colab": {
          "base_uri": "https://localhost:8080/"
        },
        "outputId": "27b36039-2c1c-4d63-cd1f-c20d0a59526a"
      },
      "source": [
        "#Todo\n",
        "N = int(input(\"Enter the height\\n\"))\n",
        "\n",
        "for fx in range(1,N+1):\n",
        "  for gx in range(1,fx+1):\n",
        "    if gx != fx:\n",
        "      print(gx , end=\"\")\n",
        "    else:\n",
        "      print(gx)  \n",
        "\n"
      ],
      "execution_count": null,
      "outputs": [
        {
          "output_type": "stream",
          "text": [
            "Enter the height\n",
            "5\n",
            "1\n",
            "12\n",
            "123\n",
            "1234\n",
            "12345\n"
          ],
          "name": "stdout"
        }
      ]
    },
    {
      "cell_type": "markdown",
      "metadata": {
        "id": "AWbbbs5mSK6O"
      },
      "source": [
        "## Optional Tasks (21 -26) [Ungraded]"
      ]
    },
    {
      "cell_type": "markdown",
      "metadata": {
        "id": "a0SjEWlsw6Vt"
      },
      "source": [
        "### Task 21\n",
        "\n",
        "Write a python program that prints all the fibonacci number from 0 to N where N will be given. \n",
        "\n",
        "**A Fibonacci number is a number which is the summation of its previous two fibonacci number.**\n",
        "\n",
        "First two fibonacci number are 0 and 1. So the 3rd Fib will be 0+1=1, 4th Fib will be 1+1=2, 5th Fib will be 1+2=3 and so on.\n",
        "\n",
        "==============================\n",
        "\n",
        "**Sample Input**<br>\n",
        "10\n",
        "\n",
        "**Sample Output**<br>\n",
        "0 1 1 2 3 5 8\n",
        "\n",
        "==============================\n",
        "\n",
        "\n",
        "**Sample Input**<br>\n",
        "15\n",
        "\n",
        "**Sample Output**<br>\n",
        "0 1 1 2 3 5 8 13"
      ]
    },
    {
      "cell_type": "code",
      "metadata": {
        "id": "vQhQFFBWx-h0",
        "colab": {
          "base_uri": "https://localhost:8080/"
        },
        "outputId": "20476e44-47c0-4722-e8b7-0dbd0ecc4e4b"
      },
      "source": [
        "#Todo\n",
        "N = int(input())\n",
        "\n",
        "x = 0 \n",
        "y = 1\n",
        "print(x , end =\" \")\n",
        "print(y , end=\" \")\n",
        "\n",
        "while x <= N and y <=N:\n",
        "  x = x + y\n",
        "  if x>= N: continue\n",
        "  print(x , end =\" \")\n",
        "  y = y + x\n",
        "  if y>= N: continue\n",
        "  print(y , end =\" \")\n",
        "\n",
        "\n",
        "\n",
        "\n",
        "\n"
      ],
      "execution_count": 5,
      "outputs": [
        {
          "output_type": "stream",
          "text": [
            "29\n",
            "0 1 1 2 3 5 8 13 21 "
          ],
          "name": "stdout"
        }
      ]
    },
    {
      "cell_type": "markdown",
      "metadata": {
        "id": "bByH1fWsw7av"
      },
      "source": [
        "### Task 22\n",
        "\n",
        "Write a python program that converts a Decimal Integer number to a Binary Number. \n",
        "\n",
        "**A decimal can be converted to a binary number by keeping track of the remainders after each division of that number by 2. **\n",
        "\n",
        "================================\n",
        "\n",
        "For example, to convert 10 to a binary number, we can follow the following approach\n",
        "\n",
        "10/2 = 5 (Remainder 0) \n",
        "<br>5/2 = 2 (Remainder 1) \n",
        "<br>2/2 = 1 (Remainder 0) \n",
        "<br>1/2 = 0 (Remainder 1) \n",
        "\n",
        "Take the remainders from bottom to top, which is, 1010. Binary of 10 is 1010.\n",
        "\n",
        "**Sample Input** <br>\n",
        "10\n",
        "\n",
        "**Sample Output**<br>\n",
        "1010\n",
        "\n",
        "================================\n",
        "\n",
        "For example, to convert 13 to a binary number, we can follow the following approach\n",
        "\n",
        "13/2 = 6 (Remainder 1) \n",
        "<br>6/2 = 3 (Remainder 0) \n",
        "<br>3/2 = 1 (Remainder 1) \n",
        "<br>1/2 = 0 (Remainder 1) \n",
        "\n",
        "Take the remainders from bottom to top, which is, 1101. Binary of 13 is 1101.\n",
        "\n",
        "**Sample Input** <br>\n",
        "13\n",
        "\n",
        "**Sample Output**<br>\n",
        "1101"
      ]
    },
    {
      "cell_type": "code",
      "metadata": {
        "id": "AEXGx3skyBha",
        "colab": {
          "base_uri": "https://localhost:8080/"
        },
        "outputId": "6b0c4cef-2300-40ef-a05e-fac325ba13c5"
      },
      "source": [
        "#Todo\n",
        "num = int(input(\"Enter a number\"))\n",
        "answer = []\n",
        "while num != 0:\n",
        "  rem = num % 2\n",
        "  num //= 2\n",
        "  answer.append(rem)\n",
        "answer.reverse()\n",
        "\n",
        "for fx in answer:\n",
        "  print(fx , end=\"\")"
      ],
      "execution_count": 10,
      "outputs": [
        {
          "output_type": "stream",
          "text": [
            "Enter a number13\n",
            "1101"
          ],
          "name": "stdout"
        }
      ]
    },
    {
      "cell_type": "markdown",
      "metadata": {
        "id": "g_aR1Ozgw_rr"
      },
      "source": [
        "### Task 23\n",
        "\n",
        "Write a python program that converts a Binary number to a Decimal Integer Number. \n",
        "\n",
        "**A binary number can be converted to its corresponding decimal number by multiplying each binary digit with a power of 2 where the power denotes the position of the binary digit**\n",
        "\n",
        "========================================\n",
        "\n",
        "For example, to convert 1010, we can do this -\n",
        "\n",
        "\n",
        "$2^{3}$ x 1 + $2^{2}$ x 0 + $2^{1}$ x 1 + $2^{0}$ x 0 = 10\n",
        "\n",
        "\n",
        "**Sample Input** <br>\n",
        "1010\n",
        "\n",
        "**Sample Output** <br>\n",
        "10\n",
        "\n",
        "========================================\n",
        "\n",
        "For example, to convert 1101, we can do this -\n",
        "\n",
        "\n",
        "$2^{3}$ x 1 + $2^{2}$ x 1 + $2^{1}$ x 0 + $2^{0}$ x 1 = 13\n",
        "\n",
        "\n",
        "**Sample Input** <br>\n",
        "1101\n",
        "\n",
        "**Sample Output** <br>\n",
        "13"
      ]
    },
    {
      "cell_type": "code",
      "metadata": {
        "id": "ZZmhMI6VyCky",
        "colab": {
          "base_uri": "https://localhost:8080/"
        },
        "outputId": "472eed4d-08a9-4eb6-b901-a1ea6f0b9021"
      },
      "source": [
        "#Todo\n",
        "binary = list(map(int,list(input(\"Enter a binary number\"))))\n",
        "x = len(binary) - 1\n",
        "\n",
        "\n",
        "decimal = 0\n",
        "for fx in binary:\n",
        "  decimal = (decimal) + ((2**x)*(fx))\n",
        "  x -= 1\n",
        "\n",
        "print(decimal)\n"
      ],
      "execution_count": 19,
      "outputs": [
        {
          "output_type": "stream",
          "text": [
            "Enter a binary number1010\n",
            "10\n"
          ],
          "name": "stdout"
        }
      ]
    },
    {
      "cell_type": "markdown",
      "metadata": {
        "id": "GymIX5_vSK6Q"
      },
      "source": [
        "### Task 24\n",
        "\n",
        "Take five numbers from the user and find the minimum and the average of **only the even** numbers entered by the user. [If the user enters odd numbers ignore them] \n",
        "\n",
        "**<font color='red'>[CANNOT USE MAX,MIN BUILT-IN FUNCTIONS] [FOR THIS TASK YOU DO NOT NEED TO USE LISTS]</font>** \n",
        "\n",
        "Assume, the first input is always an even number.\n",
        "\n",
        "============================================================\n",
        "\n",
        "**Example01:** If the user enters 10, 4, -1, -100, and 1. \\\n",
        "Output: “Minimum -100”, “Average is 28.66667”\n",
        "\n",
        "**Input:**\\\n",
        "10\n",
        "\n",
        "4\n",
        "\n",
        "-1\n",
        "\n",
        "-100\n",
        "\n",
        "1\n",
        "\n",
        "**Output:**\\\n",
        "Minimum -100\\\n",
        "Average is 28.66667\n",
        "\n",
        "**Explanation:**\\\n",
        "Average calculation: (10+4 + (-100))/3 = -86/3=-28.66667\n",
        "\n",
        "============================================================\n",
        "\n",
        "**Example02:** If the user enters 2, 10, 1, 21, and 3. \\\n",
        "Output: Minimum 2”, “Average is 6.0”\n",
        "\n",
        "**Input:**\\\n",
        "2\n",
        "\n",
        "10\n",
        "\n",
        "1\n",
        "\n",
        "21\n",
        "\n",
        "3\n",
        "\n",
        "**Output:**\\\n",
        "Minimum 2\\\n",
        "Average is 6.0\n",
        "\n",
        "**Explanation:**\\\n",
        "Average calculation: (2+10)/2 = 12/2= 6\n",
        "\n",
        "\n",
        "\n"
      ]
    },
    {
      "cell_type": "code",
      "metadata": {
        "id": "CnrBzeq1SK6R",
        "colab": {
          "base_uri": "https://localhost:8080/"
        },
        "outputId": "a0528908-c059-4504-b750-108fd68d3375"
      },
      "source": [
        "#Todo\n",
        "\n",
        "count = 0\n",
        "min = float('inf')\n",
        "total = 0\n",
        "for fx in range(5):\n",
        "  num_1 = int(input(\"Enter a number\\n\"))\n",
        "  if num_1 % 2 == 0:\n",
        "    if num_1<min:\n",
        "      min = num_1\n",
        "    count += 1\n",
        "    total += num_1\n",
        "\n",
        "print(f\"Minimum {min} , Average is {total/count} \")\n",
        "\n",
        "\n"
      ],
      "execution_count": 28,
      "outputs": [
        {
          "output_type": "stream",
          "text": [
            "Enter a number\n",
            "1\n",
            "Enter a number\n",
            "3\n",
            "Enter a number\n",
            "5\n",
            "Enter a number\n",
            "7\n",
            "Enter a number\n",
            "10\n",
            "Minimum 10 , Average is 10.0 \n"
          ],
          "name": "stdout"
        }
      ]
    },
    {
      "cell_type": "markdown",
      "metadata": {
        "id": "F2iSIEcHSK6U"
      },
      "source": [
        "### Task 25\n",
        "\n",
        "Write a Python code for the following:\n",
        "* Ask the user to enter a number, N (Total number of inputs to be taken). Assume that the user will never enter the first number as zero.\n",
        "* Take N number of inputs\n",
        "* Prints out the product of all the numbers read\n",
        "\n",
        "For example, if the first input is 4, then the program has to read in four numbers from the user and print the product of these four numbers. \n",
        "\n",
        "=========================================================================\n",
        "\n",
        "**Example01:**\n",
        "\n",
        "**Input:**\\\n",
        "5 \n",
        "\n",
        "10 \n",
        "\n",
        "6 \n",
        "\n",
        "4 \n",
        "\n",
        "2 \n",
        "\n",
        "1 \n",
        "\n",
        "**Output:**\\\n",
        "480\n",
        "\n",
        "**Explanation:**\\\n",
        "5 is the total number of inputs taken. Then, the calculation should be 10 X 6 X 4 X 2 X 1 = 480 \n",
        "\n",
        "\n",
        "\n",
        "\n",
        "\n"
      ]
    },
    {
      "cell_type": "code",
      "metadata": {
        "id": "NFDi7tjZSK6U",
        "colab": {
          "base_uri": "https://localhost:8080/"
        },
        "outputId": "160532a1-cd05-4dca-8e24-59a60f42ec6d"
      },
      "source": [
        "#Todo\n",
        "quant_1 = int(input(\"Enter the quantity\\n\"))\n",
        "total =1 \n",
        "for fx in range(quant_1):\n",
        "  num_1 = int(input(\"Enter a number\\n\"))\n",
        "  total *= num_1\n",
        "  \n",
        "\n",
        "print(total)"
      ],
      "execution_count": 29,
      "outputs": [
        {
          "output_type": "stream",
          "text": [
            "Enter the quantity\n",
            "2\n",
            "Enter a number\n",
            "99\n",
            "Enter a number\n",
            "10\n",
            "990\n"
          ],
          "name": "stdout"
        }
      ]
    },
    {
      "cell_type": "markdown",
      "metadata": {
        "id": "1Ef3zxQsSK6Y"
      },
      "source": [
        "### Task 26\n",
        "Ask the user for a range (a starting number and an ending number). \n",
        "**Count** how many numbers are prime numbers and how many numbers are perfect numbers between that range and **print** those numbers. \n",
        "\n",
        "\n",
        "=========================================================================\n",
        "\n",
        "**Hint (1):** Declare two strings/lists to store the prime and perfect numbers. Inside the iteration store the values of the prime and perfect numbers in the pre- declared variables.\n",
        "\n",
        "**Hint (2):**\n",
        "\n",
        "\n",
        "ans = \"Prime numbers: \"\\\n",
        "prime_value = 11\n",
        "ans = ans + str(prime_value) + \" \"\\\n",
        "print(ans)\n",
        "\n",
        "ans = ans + str(13) + \" \"\\\n",
        "print(ans)\n",
        "\n",
        "*Output:*\n",
        "\n",
        "Prime numbers: 11 \\\n",
        "Prime numbers: 11 13 \n",
        "\n",
        "=========================================================================\n",
        "\n",
        "**Example:**between 2 and 6, there are 3 prime numbers (2, 3, 5) and 1 perfect number (6). \n",
        "\n",
        "**Input:**\\\n",
        "2\n",
        "\n",
        "6\n",
        "\n",
        "**Output:**\\\n",
        "Between 2 and 6,\\\n",
        "Found 3 prime numbers \\\n",
        "Found 1 perfect number\\\n",
        "Prime numbers: 2  3  5 \\\n",
        "Perfect numbers: 6 \n",
        "\n"
      ]
    },
    {
      "cell_type": "code",
      "metadata": {
        "id": "_YU9xdPBSK6Y",
        "colab": {
          "base_uri": "https://localhost:8080/"
        },
        "outputId": "6d38dc29-9731-49d4-8ecc-bfbf22dd7231"
      },
      "source": [
        "#Todo\n",
        "start = int(input(\"Enter the starting number\\n\"))\n",
        "end = int(input(\"Enter the ending number\\n\"))\n",
        "prime = 0\n",
        "count = 0\n",
        "count_1 = 0\n",
        "perfect = 0 \n",
        "p_numbers = []\n",
        "per_numbers =[]\n",
        "for fx in range(start,end+1):\n",
        "  for gx in range(2,fx):\n",
        "    if fx % gx == 0:\n",
        "      count +=1\n",
        "      continue\n",
        "  if count==0: p_numbers.append(fx)\n",
        "  if count==0:\n",
        "    prime += 1\n",
        "  count = 0\n",
        "\n",
        "  for hx in range(1,fx):\n",
        "    if fx % hx == 0:\n",
        "      count_1 += hx\n",
        "      continue\n",
        "  if count_1==fx: per_numbers.append(fx)\n",
        "  if count_1==fx:\n",
        "    perfect += 1\n",
        "  count_1 = 0  \n",
        "\n",
        "\n",
        "      \n",
        "      \n",
        "print(f\"Between {start} and {end}\")   \n",
        "print(f\"Found {prime} prime number(s)\")\n",
        "print(f\"Found {perfect} perfect number(s)\")\n",
        "print(\"Prime number(s):\" , end=\"\")\n",
        "for i in p_numbers:\n",
        "  print(i , end=\" \")\n",
        "print(\"\\nPerfect number(s):\" , end=\" \")  \n",
        "for i in per_numbers:\n",
        "  print(i , end=\" \")\n",
        "\n"
      ],
      "execution_count": 64,
      "outputs": [
        {
          "output_type": "stream",
          "text": [
            "Enter the starting number\n",
            "100\n",
            "Enter the ending number\n",
            "500\n",
            "Between 100 and 500\n",
            "Found 70 prime number(s)\n",
            "Found 1 perfect number(s)\n",
            "Prime number(s):101 103 107 109 113 127 131 137 139 149 151 157 163 167 173 179 181 191 193 197 199 211 223 227 229 233 239 241 251 257 263 269 271 277 281 283 293 307 311 313 317 331 337 347 349 353 359 367 373 379 383 389 397 401 409 419 421 431 433 439 443 449 457 461 463 467 479 487 491 499 \n",
            "Perfect number(s): 496 "
          ],
          "name": "stdout"
        }
      ]
    }
  ]
}