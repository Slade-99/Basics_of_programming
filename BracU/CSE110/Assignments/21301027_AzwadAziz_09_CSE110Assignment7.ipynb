{
  "nbformat": 4,
  "nbformat_minor": 0,
  "metadata": {
    "kernelspec": {
      "display_name": "Python 3",
      "language": "python",
      "name": "python3"
    },
    "language_info": {
      "codemirror_mode": {
        "name": "ipython",
        "version": 3
      },
      "file_extension": ".py",
      "mimetype": "text/x-python",
      "name": "python",
      "nbconvert_exporter": "python",
      "pygments_lexer": "ipython3",
      "version": "3.8.4"
    },
    "colab": {
      "name": "21301027_AzwadAziz_09_CSE110Assignment7.ipynb",
      "provenance": [],
      "collapsed_sections": []
    }
  },
  "cells": [
    {
      "cell_type": "markdown",
      "metadata": {
        "id": "oMYzsTcnHEll"
      },
      "source": [
        "# CSE110 Lab Assignment 7 on Sorting and Searching\n",
        "\n",
        "Write your name, student id and CSE110 section below:\n"
      ]
    },
    {
      "cell_type": "code",
      "metadata": {
        "id": "ljd7OxU2gvWb"
      },
      "source": [
        "#STUDENT NAME:Azwad Aziz\n",
        "#STUDENT ID:21301027\n",
        "#CSE110 SECTION: 09"
      ],
      "execution_count": null,
      "outputs": []
    },
    {
      "cell_type": "markdown",
      "metadata": {
        "id": "jT-t2zlnHEll"
      },
      "source": [
        "## Write the Python code for the following problems:\n",
        "**<font color='red'>[MUST MAINTAIN VARIABLE NAMING CONVENTIONS FOR ALL THE TASKS]</font>**\n",
        "\n",
        "### Task 1\n",
        "\n",
        "Suppose you have a list named my_list as given below. <br/>\n",
        "my_list = [10,1,20,3,6,2,5,11,15,2,12,14,17,18,29] <br/>\n",
        "Now use bubble sort to sort my_list into ascending order.\n",
        "\n",
        "**Output**<br/>\n",
        "[1, 2, 2, 3, 5, 6, 10, 11, 12, 14, 15, 17, 18, 20, 29]"
      ]
    },
    {
      "cell_type": "code",
      "metadata": {
        "id": "7qXVakLgHElm",
        "colab": {
          "base_uri": "https://localhost:8080/"
        },
        "outputId": "5750f9dd-fc30-4d93-e756-c49e7da8ea67"
      },
      "source": [
        "#todo - Bubble sort starts arranging the elements from the top\n",
        "\n",
        "list_1 = [10,1,20,3,6,2,5,11,15,2,12,14,17,18,29]\n",
        "\n",
        "for i in range(len(list_1)-1):\n",
        "    for j in range(len(list_1)-i-1):\n",
        "        if list_1[j] > list_1[j+1]:\n",
        "            fix = list_1[j]\n",
        "            list_1[j] = list_1[j+1]\n",
        "            list_1[j+1] = fix\n",
        "print(list_1)"
      ],
      "execution_count": 6,
      "outputs": [
        {
          "output_type": "stream",
          "text": [
            "[1, 2, 2, 3, 5, 6, 10, 11, 12, 14, 15, 17, 18, 20, 29]\n"
          ],
          "name": "stdout"
        }
      ]
    },
    {
      "cell_type": "markdown",
      "metadata": {
        "id": "w1QgeWd2HElp"
      },
      "source": [
        "### Task 2\n",
        "\n",
        "Suppose you have a list named my_list as given below. <br/>\n",
        "my_list = [10,1,20,3,6,2,5,11,15,2,12,14,17,18,29] <br/>\n",
        "Now use selection sort to sort my_list into ascending order.\n",
        "\n",
        "**Output**<br/>\n",
        "[1, 2, 2, 3, 5, 6, 10, 11, 12, 14, 15, 17, 18, 20, 29]\n",
        "\n"
      ]
    },
    {
      "cell_type": "code",
      "metadata": {
        "id": "am0B_8ICHElq",
        "colab": {
          "base_uri": "https://localhost:8080/"
        },
        "outputId": "95a6d382-3f2d-40fb-d606-1471251b19b5"
      },
      "source": [
        "#todo Selection sort starts arranging the elements from the bottom\n",
        "\n",
        "list_1 = [10,1,20,3,6,2,5,11,15,2,12,14,17,18,29]\n",
        "\n",
        "for i in range(len(list_1)-1):\n",
        "  min = list_1[i]\n",
        "  min_index = i\n",
        "  for j in range(i+1,len(list_1)):\n",
        "    if list_1[j] < min:\n",
        "      min = list_1[j]\n",
        "      min_index = j\n",
        "  \n",
        "  list_1[min_index] = list_1[i]\n",
        "  list_1[i] = min\n",
        "  \n",
        "print(list_1)\n"
      ],
      "execution_count": null,
      "outputs": [
        {
          "output_type": "stream",
          "text": [
            "[1, 2, 2, 3, 5, 6, 10, 11, 12, 14, 15, 17, 18, 20, 29]\n"
          ],
          "name": "stdout"
        }
      ]
    },
    {
      "cell_type": "code",
      "metadata": {
        "id": "hccvi2B3vj51"
      },
      "source": [
        ""
      ],
      "execution_count": null,
      "outputs": []
    },
    {
      "cell_type": "markdown",
      "metadata": {
        "id": "j4ffr2CAHElt"
      },
      "source": [
        "### Task  3\n",
        "\n",
        "Suppose you have a list named my_list as given below <br/>\n",
        "my_list=[10,1,20,3,6,2,5,11,15,2,12,14,17,18,29] <br/>\n",
        "Now use any of the two sorting techniques you have used above to sort the list in descending order.\n",
        "\n",
        "**Output**<br/>\n",
        "[29, 20, 18, 17, 15, 14, 12, 11, 10, 6, 5, 3, 2, 2, 1]\n"
      ]
    },
    {
      "cell_type": "code",
      "metadata": {
        "id": "n2X3YR-_HElt",
        "colab": {
          "base_uri": "https://localhost:8080/"
        },
        "outputId": "96818fef-93de-4b30-c96c-50af0bd4573f"
      },
      "source": [
        "#todo\n",
        "my_list=[10,1,20,3,6,2,5,11,15,2,12,14,17,18,29]\n",
        "\n",
        "for i in range(len(my_list)-1):\n",
        "  max = my_list[i]\n",
        "  max_index = i\n",
        "  for j in range(i+1,len(my_list)):\n",
        "    if my_list[j] > max:\n",
        "      max = my_list[j]\n",
        "      max_index = j\n",
        "  \n",
        "  my_list[max_index] = my_list[i]\n",
        "  my_list[i] = max\n",
        "print(list_1)"
      ],
      "execution_count": null,
      "outputs": [
        {
          "output_type": "stream",
          "text": [
            "[29, 20, 18, 17, 15, 14, 12, 11, 10, 6, 5, 3, 2, 2, 1]\n"
          ],
          "name": "stdout"
        }
      ]
    },
    {
      "cell_type": "markdown",
      "metadata": {
        "id": "9iYiiTWWHElw"
      },
      "source": [
        "### Task 4\n",
        "\n",
        "Suppose you have a sitting arrangement of the students who will give the final exam in a list. The list contains the last two digits of their student ID as given below.<br/>\n",
        "\n",
        "sitting_list = [10,30,20,70,11,15,22,16,58,100,12,56,70,80] <br/>\n",
        "\n",
        "Now you want to organize the sitting arrangement of the students in your own way. You decide to sort all the students in the even indices of the list in ascending order and all the students in the odd indices of the list in descending order.  <br/>\n",
        "\n",
        "So, write a python program that organizes the list for you in this way.<br/>\n",
        "\n",
        "\n",
        "**Sample Output**<br/>\n",
        "[10, 100, 11, 80, 12, 70, 20, 56, 22, 30, 58, 16, 70, 15]"
      ]
    },
    {
      "cell_type": "code",
      "metadata": {
        "id": "nPdUAKDJHElw",
        "colab": {
          "base_uri": "https://localhost:8080/"
        },
        "outputId": "21a6bd6c-6bbd-4fc2-9de9-f18fc49a3f32"
      },
      "source": [
        "#todo\n",
        "sitting_list = [10,30,20,70,11,15,22,16,58,100,12,56,70,80]\n",
        "even = []\n",
        "odd = []\n",
        "final = []\n",
        "for i in range(len(sitting_list)):\n",
        "  if i%2==0:\n",
        "    odd.append(sitting_list[i])\n",
        "  else:\n",
        "    even.append(sitting_list[i])\n",
        "\n",
        "for i in range(len(even)):\n",
        "  max = even[i]\n",
        "  max_index = i\n",
        "  for j in range(i+1,len(even)):\n",
        "    if even[j] > max:\n",
        "      max = even[j]\n",
        "      max_index = j\n",
        "  \n",
        "  even[max_index] = even[i]\n",
        "  even[i] = max\n",
        "\n",
        "for i in range(len(odd)):\n",
        "  min = odd[i]\n",
        "  min_index = i\n",
        "  for j in range(i+1,len(odd)):\n",
        "    if odd[j] < min:\n",
        "      min = odd[j]\n",
        "      min_index = j\n",
        "  \n",
        "  odd[min_index] = odd[i]\n",
        "  odd[i] = min\n",
        "\n",
        "for i,j in zip(odd,even):\n",
        "  final.append(i)\n",
        "  final.append(j)\n",
        "\n",
        "print(final)"
      ],
      "execution_count": null,
      "outputs": [
        {
          "output_type": "stream",
          "text": [
            "[10, 100, 11, 80, 12, 70, 20, 56, 22, 30, 58, 16, 70, 15]\n"
          ],
          "name": "stdout"
        }
      ]
    },
    {
      "cell_type": "markdown",
      "metadata": {
        "id": "oVR1Tsa0HElz"
      },
      "source": [
        "### Task 5\n",
        "\n",
        "Suppose a list contains marks earned in the courses CSE110, PHY111, and MAT110 of each student consecutively in a nested list form. Your task is to take a course name as input from the user and sort the list based on the marks obtained in that course in order to finally print the names of the students in descending order of marks obtained i.e. from the student who earned the highest marks to the student who earned the lowest. <br/>\n",
        "\n",
        "For example, the list may look like <br/>\n",
        "lst = [ [\"Alan\", 95, 87, 91], [\"Turing\", 92, 90, 83], [\"Elon\", 87, 92, 80], [\"Musk\", 85, 94, 90] ] <br/>\n",
        "where for each nested list, 1st index holds the name of the student, 2nd index is total marks earned in the CSE110 course, 3rd index is PHY111 marks and 4th index is MAT110 marks. \n",
        "\n",
        "=====================================================\n",
        "\n",
        "**Hint:**<br/>\n",
        "You may create a function for sorting, then call it every time when needed instead of rewriting the code.\n",
        "\n",
        "You may get the data in the individual lists from the given nested list.\n",
        "\n",
        "=====================================================\n",
        "\n",
        "**Sample Input 1**<br/>\n",
        "MAT110\n",
        "\n",
        "**Sample Output 1**<br/>\n",
        "Alan <br/>\n",
        "Musk <br/>\n",
        "Turing <br/>\n",
        "Elon\n",
        "\n",
        "**Explanation:**<br/>\n",
        "Here the user gives us \"MAT110\" as the course name. Now, the students Alan, Turing, Elon and Musk earned 91, 83, 80 and 90 marks respectively in this course. If we sort it, Alan got the highest marks of 91 followed by Musk with 90 marks and Turing with 83 marks. Among these 4 students, Elon obtained the lowest marks in the MAT110 course with 80 marks. All of these has been illustrated in our sample output.\n",
        "\n",
        "=====================================================\n",
        "\n",
        "**Sample Input 2**<br/>\n",
        "PHY111\n",
        "\n",
        "**Sample Output 2**<br/>\n",
        "Musk <br/>\n",
        "Elon <br/>\n",
        "Turing <br/>\n",
        "Alan"
      ]
    },
    {
      "cell_type": "code",
      "metadata": {
        "id": "539b2P1NHElz",
        "colab": {
          "base_uri": "https://localhost:8080/"
        },
        "outputId": "8b0cb31b-1264-4df8-abec-a76347ac4a8f"
      },
      "source": [
        "#todo\n",
        "list_1 =[ [\"Alan\", 95, 87, 91], [\"Turing\", 92, 90, 83], [\"Elon\", 87, 92, 80], [\"Musk\", 85, 94, 90] ]\n",
        "course = input(\"Enter the Course name\\n\")\n",
        "new = {}\n",
        "def descending(dict_1):\n",
        "    for i in dict_1:\n",
        "        max = i\n",
        "        max_value = dict_1[i]\n",
        "        for j in dict_1:\n",
        "            if dict_1[j]>dict_1[i]:\n",
        "                max = j\n",
        "                max_value = dict_1[j]\n",
        "        new.update({max:max_value})\n",
        "        dict_1[max]=0\n",
        "    \n",
        "    \n",
        "\n",
        "    \n",
        "\n",
        "if course == 'CSE110':\n",
        "  cse = {}\n",
        "  for i in range(4):\n",
        "    cse.update({list_1[i][0]:list_1[i][1]})\n",
        "  descending(cse)\n",
        "  for i in new:\n",
        "    print(i)\n",
        "elif course == 'PHY111':\n",
        "  phy = {}\n",
        "  for i in range(4):\n",
        "    phy.update({list_1[i][0]:list_1[i][2]})\n",
        "  \n",
        "  descending(phy)\n",
        "  \n",
        "  for i in new:\n",
        "    print(i)\n",
        "elif course == 'MAT110':\n",
        "  mat = {}\n",
        "  for i in range(4):\n",
        "    mat.update({list_1[i][0]:list_1[i][3]})\n",
        "  descending(mat)\n",
        "  for i in new:\n",
        "    print(i)\n",
        "\n",
        "\n",
        "\n"
      ],
      "execution_count": 3,
      "outputs": [
        {
          "output_type": "stream",
          "text": [
            "Enter the Course name\n",
            "MAT110\n",
            "Alan\n",
            "Musk\n",
            "Turing\n",
            "Elon\n"
          ],
          "name": "stdout"
        }
      ]
    },
    {
      "cell_type": "markdown",
      "metadata": {
        "id": "B0Rqbyi4HEl2"
      },
      "source": [
        "### Task 6\n",
        "\n",
        "Suppose you have a list named my_list as given below. Your task is to sort the list in ascending order and print the count of numbers that have changed their positions in the process of sorting. <br/>\n",
        "\n",
        "my_list = [4, 2, 3, 1, 6, 5] <br/>\n",
        "\n",
        "Sorted list would be [1, 2, 3, 4, 5, 6] where 4 numbers (4, 1, 6 and 5) have changed their positions. Therefore our sample output here would be 4. Please check if your code is working correctly by changing the above list and using the knowledge given here to verify whether your code gives correct output for all different lists.\n",
        "\n",
        "\n",
        "**Sample Output for the above list**<br/>\n",
        "4"
      ]
    },
    {
      "cell_type": "code",
      "metadata": {
        "id": "AMc8jAa7HEl2",
        "colab": {
          "base_uri": "https://localhost:8080/"
        },
        "outputId": "11a7d59d-1c2d-48e5-94b1-aa92fdae8f77"
      },
      "source": [
        "#todo\n",
        "list_1 = [4, 2, 3, 1, 6, 5]\n",
        "list_2 = list_1.copy()\n",
        "\n",
        "count = 0\n",
        "for i in range(len(list_1)-1):\n",
        "    for j in range(len(list_1)-i-1):\n",
        "        if list_1[j] > list_1[j+1]:\n",
        "            \n",
        "            fix = list_1[j]\n",
        "            list_1[j] = list_1[j+1]\n",
        "            list_1[j+1] = fix\n",
        "\n",
        "for i in range(len(list_1)-1):\n",
        "  if list_1[i]==list_2[i]:\n",
        "    count +=1\n",
        "print(list_1)\n",
        "print(list_2)\n",
        "print(len(list_1)-count)"
      ],
      "execution_count": 13,
      "outputs": [
        {
          "output_type": "stream",
          "text": [
            "[1, 2, 3, 4, 5, 6]\n",
            "[4, 2, 3, 1, 6, 5]\n",
            "4\n"
          ],
          "name": "stdout"
        }
      ]
    },
    {
      "cell_type": "markdown",
      "metadata": {
        "id": "iIH5n0sJHEl5"
      },
      "source": [
        "### Task 7\n",
        "\n",
        "Write a python program that takes two lists from the user, merges the two lists, sorts the resulting list, and then finds the median of the elements in the two lists.\n",
        "\n",
        "=====================================================\n",
        "\n",
        "\n",
        "**Sample Input 1**<br/>\n",
        "list_one = [1, 2, 1, 4] <br/>\n",
        "list_two = [5, 4, 1]\n",
        "\n",
        "\n",
        "**Sample Output 1**<br/>\n",
        "Sorted list = [1, 1, 1, 2, 4, 4, 5] <br/>\n",
        "Median = 2\n",
        "\n",
        "=====================================================\n",
        "\n",
        "\n",
        "**Sample Input 2**<br/>\n",
        "list_one = [1, 7, 9, 10] <br/>\n",
        "list_two = [2, 7, 6, 5]\n",
        "\n",
        "\n",
        "**Sample Output 2**<br/>\n",
        "Sorted list = [1, 2, 5, 6, 7, 7, 9, 10] <br/>\n",
        "Median = 6.5\n",
        "\n"
      ]
    },
    {
      "cell_type": "code",
      "metadata": {
        "id": "KsFxC7XbHEl6",
        "colab": {
          "base_uri": "https://localhost:8080/"
        },
        "outputId": "7c385aa5-1dc7-4cb7-89f7-7dca7ede9fb7"
      },
      "source": [
        "#todo\n",
        "list_one = eval(input('Enter the first list\\n'))\n",
        "list_two = eval(input('Enter the second list\\n'))\n",
        "final = list_one + list_two\n",
        "\n",
        "for i in range(len(final)-1):\n",
        "    for j in range(len(final)-i-1):\n",
        "        if final[j] > final[j+1]:\n",
        "            fix = final[j]\n",
        "            final[j] = final[j+1]\n",
        "            final[j+1] = fix\n",
        "if len(final)%2==0:\n",
        "  median = (final[((len(final))//2)] + final[(((len(final))//2)-1)])/2\n",
        "else:\n",
        "  median = final[(len(final)//2)] \n",
        "\n",
        "\n",
        "print(f'Sorted list = {final}')\n",
        "print(median)"
      ],
      "execution_count": 21,
      "outputs": [
        {
          "output_type": "stream",
          "text": [
            "Enter the first list\n",
            "[1, 2, 1, 4]\n",
            "Enter the second list\n",
            "[5, 4, 1]\n",
            "Sorted list = [1, 1, 1, 2, 4, 4, 5]\n",
            "2\n"
          ],
          "name": "stdout"
        }
      ]
    },
    {
      "cell_type": "markdown",
      "metadata": {
        "id": "-XKiwBR1HEl8"
      },
      "source": [
        "### Task 8\n",
        "\n",
        "\n",
        "Write a python program that takes a list from user containing both positive and negative numbers. The program then finds two pairs of values whose summation is closest to zero.\n",
        "\n",
        "=====================================================\n",
        "\n",
        "**Sample Input 1**<br/>\n",
        "list_one = [-10, 15, 2, 4, -4, 7, -8] \n",
        "\n",
        "\n",
        "**Sample Output 1**<br/>\n",
        "Two pairs which have the smallest sum = 4 and -4\n",
        "\n",
        "=====================================================\n",
        "\n",
        "\n",
        "**Sample Input 2**<br/>\n",
        "list_one = [1, -8, 4, -7, -20, 26, 70, -85]\n",
        "\n",
        "\n",
        "**Sample Output 2**<br/>\n",
        "Two pairs which have the smallest sum = 4 and -7"
      ]
    },
    {
      "cell_type": "code",
      "metadata": {
        "id": "5ORSGa5GHEl9",
        "colab": {
          "base_uri": "https://localhost:8080/"
        },
        "outputId": "0b570ed1-9f31-4d4e-f5dd-a66e6daa2f94"
      },
      "source": [
        "#todo\n",
        "list_1 = eval(input('Enter a list\\n'))\n",
        "summation = float('inf')\n",
        "for i in range(len(list_1)-1):\n",
        "  for j in range(i+1,len(list_1)-1):\n",
        "    if (list_1[i]<0 and list_1[j]>0)  or (list_1[j]<0 and list_1[i]>0):\n",
        "      if list_1[i]+list_1[j]>0:\n",
        "        total = list_1[i]+list_1[j]\n",
        "        if total< summation:\n",
        "          summation = total\n",
        "          min_val1=list_1[i]\n",
        "          min_val2=list_1[j]\n",
        "      else:\n",
        "        total = -(list_1[i]+list_1[j])\n",
        "        if total< summation:\n",
        "          summation = total\n",
        "          min_val1=list_1[i]\n",
        "          min_val2=list_1[j]\n",
        "\n",
        "    elif list_1[i]>0 and list_1[j]>0:\n",
        "      total = list_1[i]+list_1[j]\n",
        "      if total< summation:\n",
        "        summation = total\n",
        "        min_val1=list_1[i]\n",
        "        min_val2=list_1[j]\n",
        "\n",
        "\n",
        "    elif list_1[i]<0 and list_1[j]<0:\n",
        "      total = -(list_1[i]+list_1[j])\n",
        "      if total< summation:\n",
        "        summation = total\n",
        "        min_val1=list_1[i]\n",
        "        min_val2=list_1[j]\n",
        "\n",
        "\n",
        "print(f'Two pairs which have the smallest sum = {min_val1} and {min_val2}')\n",
        "\n",
        "\n",
        "\n",
        "\n",
        "\n"
      ],
      "execution_count": 37,
      "outputs": [
        {
          "output_type": "stream",
          "text": [
            "Enter a list\n",
            "[1, -8, 4, -7, -20, 26, 70, -85]\n",
            "Two pairs which have the smallest sum = 4 and -7\n"
          ],
          "name": "stdout"
        }
      ]
    }
  ]
}