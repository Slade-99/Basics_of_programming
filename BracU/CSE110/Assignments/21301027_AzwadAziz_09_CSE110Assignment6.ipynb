{
  "nbformat": 4,
  "nbformat_minor": 0,
  "metadata": {
    "kernelspec": {
      "display_name": "Python 3",
      "language": "python",
      "name": "python3"
    },
    "language_info": {
      "codemirror_mode": {
        "name": "ipython",
        "version": 3
      },
      "file_extension": ".py",
      "mimetype": "text/x-python",
      "name": "python",
      "nbconvert_exporter": "python",
      "pygments_lexer": "ipython3",
      "version": "3.7.6"
    },
    "colab": {
      "name": "21301027_AzwadAziz_09_CSE110Assignment6.ipynb",
      "provenance": [],
      "collapsed_sections": []
    }
  },
  "cells": [
    {
      "cell_type": "markdown",
      "metadata": {
        "id": "mRHB9cBf5D7V"
      },
      "source": [
        "# CSE110 Lab Assignment 6\n",
        "This assignment is to guide you to solve everything you have learned so far by implementing functions in Python. \n",
        "\n",
        "\n",
        "\n",
        "Write your name, student id and CSE110 section below:"
      ]
    },
    {
      "cell_type": "code",
      "metadata": {
        "id": "YzSo433_gwDg"
      },
      "source": [
        "#STUDENT NAME: Azwad Aziz\n",
        "#STUDENT ID: 21301027\n",
        "#CSE110 SECTION: 09"
      ],
      "execution_count": null,
      "outputs": []
    },
    {
      "cell_type": "markdown",
      "metadata": {
        "id": "_uzpm0b85D7Z"
      },
      "source": [
        "**<font color='red'>[MUST MAINTAIN VARIABLE NAMING CONVENTIONS FOR ALL THE TASKS]</font>**\n",
        "\n",
        "## Write the Python code of the following problems:\n",
        "\n",
        "### Task 1\n",
        "Write a function called **even_checker** that takes a number as an argument and prints whether the number is even or odd **inside the function**.\n",
        "\n",
        "===================================\n",
        "\n",
        "**Example1:** \\\n",
        "**Function Call:**\\\n",
        "even_checker(5)\\\n",
        "**Output:**\\\n",
        "Odd!!\n",
        "\n",
        "=============================\n",
        "\n",
        "**Example2:** \\\n",
        "**Function Call:**\\\n",
        "even_checker(2)\\\n",
        "**Output:**\\\n",
        "Even!!\n",
        "\n"
      ]
    },
    {
      "cell_type": "code",
      "metadata": {
        "id": "tMMBecSe5D7a"
      },
      "source": [
        "# to do\n",
        "\n",
        "def even_checker(num):\n",
        "  if num%2 != 0:\n",
        "    print(\"Odd!!\")\n",
        "  else:\n",
        "    print(\"Even!!\")\n",
        "even_checker(10)\n",
        "\n"
      ],
      "execution_count": null,
      "outputs": []
    },
    {
      "cell_type": "markdown",
      "metadata": {
        "id": "YFKgn6Yw5D7f"
      },
      "source": [
        "### Task 2\n",
        "Write a python function that takes the limit as an argument of the Fibonacci series and prints till that limit. \n",
        "\n",
        "===================================\n",
        "\n",
        "**Function Call:**\\\n",
        "fibonacci(10)\\\n",
        "**Output:**\\\n",
        "0 1 1 2 3 5 8\\\n",
        "======================\\\n",
        "**Function Call:**\\\n",
        "fibonacci(5)\\\n",
        "**Output:**\\\n",
        "0 1 1 2 3 5 "
      ]
    },
    {
      "cell_type": "code",
      "metadata": {
        "id": "J4ab_IeA5D7g"
      },
      "source": [
        "# to do\n",
        "def fabonacci(i):\n",
        "  print(0,end=\" \")\n",
        "  num=1\n",
        "  y =0\n",
        "  z= 1\n",
        "  while z<=i:\n",
        "    print(z, end= \" \")\n",
        "    z= num+y\n",
        "    if num>y:\n",
        "      y=z\n",
        "    else:\n",
        "      num=z\n",
        "    \n",
        "fabonacci(5) \n"
      ],
      "execution_count": null,
      "outputs": []
    },
    {
      "cell_type": "markdown",
      "metadata": {
        "id": "rDY_xNcO5D7k"
      },
      "source": [
        "### Task 3\n",
        "Write a function called **foo_moo** that takes a number as an argument and **returns** the following statements according the below mentioned conditions. Then, finally prints the statement in the function call. \n",
        "\n",
        "* \tIf the number is divisible by 2, it should return \"Foo\".\n",
        "*   If the number is divisible by 3, it should return \"Moo\". \n",
        "*   If the number is divisible by both 2 and 3, it should return \"FooMoo\".\n",
        "*   Otherwise, it returns \"Boo\".\n",
        "\n",
        "===================================\n",
        "\n",
        "**Example1:** \\\n",
        "**Function Call:**\\\n",
        "foo_moo(5)\\\n",
        "**Output:**\\\n",
        "Boo\n",
        "\n",
        "=================\n",
        "\n",
        "\n",
        "**Example2:** \\\n",
        "**Function Call:**\\\n",
        "foo_moo(4)\\\n",
        "**Output:**\\\n",
        "Foo\n",
        "\n",
        "=================\n",
        "\n",
        "\n",
        "**Example3:** \\\n",
        "**Function Call:**\\\n",
        "foo_moo(6)\\\n",
        "**Output:**\\\n",
        "FooMoo\n",
        "\n"
      ]
    },
    {
      "cell_type": "code",
      "metadata": {
        "id": "2roUcNrC5D7l"
      },
      "source": [
        "# to do\n",
        "def foo_moo(num) ->None:\n",
        "  if num%6 == 0:\n",
        "    print(\"FooMoo\")\n",
        "  elif num%2 == 0:\n",
        "    print(\"Foo\")\n",
        "  elif num%3 == 0:\n",
        "    print(\"Moo\")\n",
        "  else:\n",
        "    print(\"Boo\")\n",
        "\n",
        "number = int(input(\"Enter a number\\n\"))\n",
        "foo_moo(number)"
      ],
      "execution_count": null,
      "outputs": []
    },
    {
      "cell_type": "markdown",
      "metadata": {
        "id": "nemw1U-i5D7s"
      },
      "source": [
        "### Task 4\n",
        "Write a python function that takes a string as an argument. Your task is to calculate the number of uppercase letters and lowercase letters and print them in the function. \n",
        "\n",
        "===================================\n",
        "\n",
        "**Function Call:**\\\n",
        "function_name('The quick Sand Man')\\\n",
        "**Output:**\\\n",
        "No. of Uppercase characters : 3\\\n",
        "No. of Lowercase Characters: 12\\\n",
        "============================\\\n",
        "**Function Call:**\\\n",
        "function_name('HaRRy PotteR')\\\n",
        "**Output:**\\\n",
        "No. of Uppercase characters : 5\\\n",
        "No. of Lowercase Characters: 6\n"
      ]
    },
    {
      "cell_type": "code",
      "metadata": {
        "id": "4ZBb4Mcr5D7t",
        "colab": {
          "base_uri": "https://localhost:8080/"
        },
        "outputId": "80f9caa9-2e6f-4e40-ec5b-97be17c24de9"
      },
      "source": [
        "# to do\n",
        "def main(string):\n",
        "  upper = 0\n",
        "  lower = 0\n",
        "  for i in string:\n",
        "    if i in \"ABCDEFGHIJKLMNOPQRSTUVWXYZ\":\n",
        "      upper+=1\n",
        "    elif i in \"abcdefghijklmnopqrstuvwxyz\":\n",
        "      lower+=1\n",
        "    else:\n",
        "      continue\n",
        "  print(f'No. of Uppercase characters : {upper}')\n",
        "  print(f'No. of Lowercase Characters: {lower}')\n",
        "\n",
        "main(input(\"Enter the string\\n\"))"
      ],
      "execution_count": null,
      "outputs": [
        {
          "output_type": "stream",
          "text": [
            "Enter the string\n",
            "'HaRRy PotteR'\n",
            "No. of Uppercase characters : 5\n",
            "No. of Lowercase Characters: 6\n"
          ],
          "name": "stdout"
        }
      ]
    },
    {
      "cell_type": "markdown",
      "metadata": {
        "id": "e9bojIHe5D7w"
      },
      "source": [
        "### Task 5\n",
        "Write a function called **calculate_tax** that takes 3 arguments: your age, salary, and current job designation.\n",
        "\n",
        "\n",
        "Your first task is to take these arguments as user input and pass these values to the function.\n",
        "\n",
        "Your second task is to implement the function and calculate the tax as the following conditions:\n",
        "*  **NO TAX IF YOU ARE LESS THAN 18 YEARS OLD.**\n",
        "*  **NO TAX IF YOU ARE THE PRESIDENT OF THE COMPANY** \n",
        "*  No tax if you get paid less than 10,000\n",
        "*  5% tax if you get paid between 10K and 20K\n",
        "*  10% tax if you get paid more than 20K\n",
        "\n",
        "\n",
        "Finally return this tax value. Then print the returned value in the function call.\n",
        "\n",
        "===================================\n",
        "\n",
        "**Hints:**\\\n",
        "Here the job designation is a string, so it can be written in both uppercase and lower cases. So, you need to check the value ignoring the case.\n",
        "\n",
        "===================================\n",
        "\n",
        "**Example1:** \\\n",
        "**Input:**\\\n",
        "16\\\n",
        "20000\\\n",
        "Student\\\n",
        "**Function Call:**\\\n",
        "calculate_tax(16, 20000, 'Student')\\\n",
        "**Output:**\\\n",
        "0\n",
        "\n",
        "===================================\n",
        "\n",
        "**Example2:** \\\n",
        "**Input:**\\\n",
        "20\\\n",
        "18000\\\n",
        "assistant manager\\\n",
        "**Function Call:**\\\n",
        "calculate_tax(20, 18000, 'assistant manager')\\\n",
        "**Output:**\\\n",
        "900.0\n",
        "\n",
        "\n",
        "===================================\n",
        "\n",
        "**Example3:** \\\n",
        "**Input:**\\\n",
        "20\\\n",
        "22000\\\n",
        "assistant manager\\\n",
        "**Function Call:**\\\n",
        "calculate_tax(20, 22000, 'Assistant manager')\\\n",
        "**Output:**\\\n",
        "2200.0\n",
        "\n",
        "===================================\n",
        "\n",
        "\n",
        "**Example4:** \\\n",
        "**Input:**\\\n",
        "20\\\n",
        "122000\\\n",
        "president\\\n",
        "**Function Call:**\\\n",
        "calculate_tax(20, 122000, 'president')\\\n",
        "**Output:**\\\n",
        "0\n",
        " \n",
        "\n",
        "\n"
      ]
    },
    {
      "cell_type": "code",
      "metadata": {
        "id": "M4oo-FKQ5D7x",
        "colab": {
          "base_uri": "https://localhost:8080/"
        },
        "outputId": "383ff6f2-1e0d-45a0-c55d-5f6537065f75"
      },
      "source": [
        "# to do\n",
        "def calculate_tax(age,sal,job_d) ->int:\n",
        "  if age<18:\n",
        "    return 0\n",
        "  elif job_d == \"president\":\n",
        "    return 0\n",
        "  elif sal<10000:\n",
        "    return 0\n",
        "  elif 10000<=sal<20000:\n",
        "    return 0.05*sal\n",
        "  elif sal>=20000:\n",
        "    return 0.1*sal\n",
        "\n",
        "age = int(input(\"Enter your age\\n\"))\n",
        "sal = int(input(\"Enter the amount of your salary\\n\"))\n",
        "job_d = input(\"Enter your current job designation\\n\").lower()\n",
        "calculate_tax(age,sal,job_d)\n"
      ],
      "execution_count": null,
      "outputs": [
        {
          "output_type": "stream",
          "text": [
            "Enter your age\n",
            "20\n",
            "Enter the amount of your salary\n",
            "18000\n",
            "Enter your current job designation\n",
            "assistant manager\n"
          ],
          "name": "stdout"
        },
        {
          "output_type": "execute_result",
          "data": {
            "text/plain": [
              "900.0"
            ]
          },
          "metadata": {
            "tags": []
          },
          "execution_count": 7
        }
      ]
    },
    {
      "cell_type": "markdown",
      "metadata": {
        "id": "VXLQHyLp5D71"
      },
      "source": [
        "### Task 6\n",
        "Write a function which will take 1 argument, number of days.\n",
        "\n",
        "Your first task is to take the number of days as user input and pass the value to the function.\n",
        " \n",
        "Your second task is to implement the function and calculate the total number of years, number of months, and the remaining number of days as output. No need to return any value, print inside the function. \n",
        "\n",
        "**Note:** Assume, each year to be 365 days and month to be 30 days.\n",
        "\n",
        "=====================================================\n",
        "\n",
        "**Hint(1):** \\\n",
        "Divide and mod the main input to get the desired output.\n",
        "\n",
        "**Hint(2):**\n",
        "This task’s calculation is similar to Assignment-1’s seconds to hours, minutes conversion.\n",
        "\n",
        "=====================================================\n",
        "\n",
        "**Example01**\n",
        "\n",
        "**Input:**\\\n",
        "4330\\\n",
        "**Function Call:**\\\n",
        "function_name(4330)\\\n",
        "**Output:**\\\n",
        "11 years, 10 months and 15 days\n",
        "\n",
        "================================\n",
        "\n",
        "**Example02**\n",
        "\n",
        "**Input:**\\\n",
        "2250\\\n",
        "**Function Call:**\\\n",
        "function_name(2250)\\\n",
        "**Output:**\\\n",
        "6 years, 2 months and 0 days\n",
        "\n",
        "\n"
      ]
    },
    {
      "cell_type": "code",
      "metadata": {
        "id": "gkE9d9gs5D72",
        "colab": {
          "base_uri": "https://localhost:8080/"
        },
        "outputId": "3ac3bb32-4b25-4ecf-f387-6575f30cc0d5"
      },
      "source": [
        "# todo\n",
        "\n",
        "def main(num):\n",
        "  if num<30:\n",
        "    print(f'0 years, 0 months and {num} days')\n",
        "  elif 30<=num<365:\n",
        "    months = num//30\n",
        "    num = num%30\n",
        "    print(f'0 years, {months} months and {num} days')\n",
        "  else:\n",
        "    year = num//365\n",
        "    num %= 365\n",
        "    months = num//30\n",
        "    num %=30\n",
        "    print(f'{year} years, {months} months and {num} days')\n",
        "\n",
        "num = int(input(\"Enter the number of days\\n\"))\n",
        "main(num)\n",
        "\n"
      ],
      "execution_count": null,
      "outputs": [
        {
          "output_type": "stream",
          "text": [
            "Enter the number of days\n",
            "65\n",
            "0 years, 2 months and 5 days\n"
          ],
          "name": "stdout"
        }
      ]
    },
    {
      "cell_type": "markdown",
      "metadata": {
        "id": "8-vvES0i5D8B"
      },
      "source": [
        "### Task 7\n",
        "Write a function called **show_palindrome** that takes a number as an argument and then returns a palindrome string. Finally, prints the returned value in the function call.\n",
        "\n",
        "=====================================================\n",
        "\n",
        "**Example1:** \\\n",
        "**Function Call:**\\\n",
        "show_palindrome(5)\\\n",
        "**Output:**\\\n",
        "123454321\n",
        "\n",
        "===================\n",
        "\n",
        "**Example2:** \\\n",
        "**Function Call:**\\\n",
        "show_palindrome(3)\\\n",
        "**Output:**\\\n",
        "12321\n"
      ]
    },
    {
      "cell_type": "code",
      "metadata": {
        "id": "QN-Iu8sz5D8C",
        "colab": {
          "base_uri": "https://localhost:8080/"
        },
        "outputId": "0b78609d-5053-4cf2-ca42-4785b7ba6228"
      },
      "source": [
        "# to do\n",
        "\n",
        "def show_palindrome(num):\n",
        "  for i in range(1,num+1):\n",
        "    print(i,end = \"\")\n",
        "  for i in range(num-1,0,-1):\n",
        "    print(i,end=\"\")\n",
        "show_palindrome(3)"
      ],
      "execution_count": null,
      "outputs": [
        {
          "output_type": "stream",
          "text": [
            "12321"
          ],
          "name": "stdout"
        }
      ]
    },
    {
      "cell_type": "markdown",
      "metadata": {
        "id": "V_PVNpx45D8F"
      },
      "source": [
        "### Task 8\n",
        "Write a function called **show_palindromic_triangle** that takes a number as an argument and prints a Palindromic Triangle in the function.\n",
        "\n",
        "**<font color='blue'>[Must reuse the show_palindrome() function of the previous task]</font>**\n",
        "\n",
        "\n",
        "\n",
        "=====================================================\n",
        "\n",
        "**Hints(1):** \\\n",
        "Need to use both print() and print( , end = \" \") functions\n",
        "\n",
        "\n",
        "=====================================================\n",
        "\n",
        "**Example1:** \\\n",
        "**Function Call:**\\\n",
        "show_palindromic_triangle(5)\\\n",
        "**Output:**\n",
        "\n",
        "&emsp; &emsp; &emsp; &emsp; 1\\\n",
        "&emsp; &emsp; &emsp; 1 &nbsp; 2 &nbsp; 1 \\\n",
        "&emsp; &emsp; 1 &nbsp; 2 &nbsp; 3 &nbsp; 2 &nbsp; 1 \\\n",
        "&emsp; 1 &nbsp; 2 &nbsp; 3 &nbsp; 4 &nbsp; 3 &nbsp; 2 &nbsp; 1 \\\n",
        "1 &nbsp; 2 &nbsp; 3 &nbsp; 4 &nbsp; 5 &nbsp; 4 &nbsp; 3 &nbsp; 2 &nbsp; 1\n",
        "\n",
        "=============================================================\n",
        "\n",
        "\n",
        "**Example2:** \\\n",
        "**Function Call:**\\\n",
        "show_palindromic_triangle(3)\\\n",
        "**Output:**\n",
        "\n",
        "&emsp; &emsp; 1 \\\n",
        "&emsp; 1 &nbsp; 2 &nbsp; 1 \\\n",
        "1 &nbsp; 2 &nbsp; 3 &nbsp; 2 &nbsp; 1\n",
        "\n",
        "\n"
      ]
    },
    {
      "cell_type": "code",
      "metadata": {
        "id": "fUu0BrHz5D8G",
        "colab": {
          "base_uri": "https://localhost:8080/"
        },
        "outputId": "def390d4-79f3-4847-fe19-02b9859fbecf"
      },
      "source": [
        "# to do\n",
        "\n",
        "def show_palindromic_triangle(num):\n",
        "  for i in range(num):\n",
        "    if i==0:\n",
        "        print(\" \"*((num*2-2)-i*2),end=\"\")\n",
        "        print(\"1\")\n",
        "    else:\n",
        "    \n",
        "    \n",
        "        print(\" \"*((num*2-2)-i*2),end=\"\")\n",
        "        for j in range(1,i+2):\n",
        "            print(j,end=\" \")\n",
        "        for k in range(i,0,-1):\n",
        "            print(k,end=\" \")\n",
        "        print(\"\")\n",
        "\n",
        "\n",
        "show_palindromic_triangle(9)"
      ],
      "execution_count": 3,
      "outputs": [
        {
          "output_type": "stream",
          "text": [
            "                1\n",
            "              1 2 1 \n",
            "            1 2 3 2 1 \n",
            "          1 2 3 4 3 2 1 \n",
            "        1 2 3 4 5 4 3 2 1 \n",
            "      1 2 3 4 5 6 5 4 3 2 1 \n",
            "    1 2 3 4 5 6 7 6 5 4 3 2 1 \n",
            "  1 2 3 4 5 6 7 8 7 6 5 4 3 2 1 \n",
            "1 2 3 4 5 6 7 8 9 8 7 6 5 4 3 2 1 \n"
          ],
          "name": "stdout"
        }
      ]
    },
    {
      "cell_type": "markdown",
      "metadata": {
        "id": "iLTMEWXg5D8M"
      },
      "source": [
        "### Task 09\n",
        "Write a function called **area_circumference_generator** that takes a radius of a circle as a  function parameter and calculates its circumference and area. Then returns these two results as a **tuple** and prints the results using tuple unpacking in the function call accorrding to the given format. \n",
        "\n",
        "<font color='blue'>**[Must use tuple packing & unpacking]** </font>\n",
        "\n",
        "=====================================================\n",
        "\n",
        "**Example1:** \\\n",
        "**Function Call:**\\\n",
        "area_circumference_generator(1)\\\n",
        "**Output:**\\\n",
        "(3.141592653589793, 6.283185307179586)\\\n",
        "Area of the circle is 3.141592653589793 and circumference is 6.283185307179586\n",
        "\n",
        "====================================\n",
        "\n",
        "**Example2:** \\\n",
        "**Function Call:**\\\n",
        "area_circumference_generator(1.5)\\\n",
        "**Output:**\\\n",
        "(7.0685834705770345, 9.42477796076938)\\\n",
        "Area of the circle is 7.0685834705770345 and circumference is 9.42477796076938\n",
        "\n",
        "====================================\n",
        "\n",
        "\n",
        "**Example3:** \\\n",
        "**Function Call:**\\\n",
        "area_circumference_generator(2.5)\\\n",
        "**Output:**\\\n",
        "(19.634954084936208, 15.707963267948966)\\\n",
        "Area of the circle is 19.634954084936208 and circumference is 15.707963267948966\n"
      ]
    },
    {
      "cell_type": "code",
      "metadata": {
        "id": "k8SLTHf35D8N",
        "colab": {
          "base_uri": "https://localhost:8080/"
        },
        "outputId": "082e0c99-35ec-4422-f1d9-90afbbef95fa"
      },
      "source": [
        "# to do\n",
        "import math\n",
        "def area_circumference_generator(radius) ->tuple:\n",
        "  Circumference = 2*(math.pi)*radius\n",
        "  Area = (math.pi)*radius*radius\n",
        "  return Area,Circumference\n",
        "\n",
        "print(area_circumference_generator(2.5))\n",
        "\n",
        "A,C = area_circumference_generator(2.5)\n",
        "\n",
        "print(f'Area of the circle is {A} and circumference is {C}')\n",
        "  "
      ],
      "execution_count": 9,
      "outputs": [
        {
          "output_type": "stream",
          "text": [
            "(19.634954084936208, 15.707963267948966)\n",
            "Area of the circle is 19.634954084936208 and circumference is 15.707963267948966\n"
          ],
          "name": "stdout"
        }
      ]
    },
    {
      "cell_type": "markdown",
      "metadata": {
        "id": "NpgEU6ZI5D8S"
      },
      "source": [
        "### Task 10\n",
        "Write a function called **make_square** that takes a tuple in the parameter as a range of numbers (starting point and ending point (included)). The function should **return a dictionary** with the numbers as keys and its squares as values.\n",
        "\n",
        "=====================================================\n",
        "\n",
        "**Hints:** \\\n",
        "You need to declare a dictionary to store the result. You should use the range function to run the “for loop”.\n",
        "\n",
        "\n",
        "=====================================================\n",
        "\n",
        "**Example1:** \\\n",
        "**Function Call:**\\\n",
        "make_square((1,3))\\\n",
        "**Output:**\\\n",
        "{1: 1, 2: 4, 3: 9}\n",
        "\n",
        "====================================\n",
        "\n",
        "**Example2:** \\\n",
        "**Function Call:**\\\n",
        "make_square((5,9))\\\n",
        "**Output:**\\\n",
        "{5: 25, 6: 36, 7: 49, 8: 64, 9: 81}\n",
        "\n",
        "\n",
        "\n"
      ]
    },
    {
      "cell_type": "code",
      "metadata": {
        "id": "-KGD8b0F5D8T",
        "colab": {
          "base_uri": "https://localhost:8080/"
        },
        "outputId": "b7564aa1-4dab-45ea-d118-a929495a643b"
      },
      "source": [
        "# to do\n",
        "def make_square(tup) ->dict:\n",
        "  key = []\n",
        "  value = []\n",
        "  start,end = tup\n",
        "  for i in range(start,end+1):\n",
        "    key.append(i)\n",
        "    value.append(i*i)\n",
        "  return {i:j for i,j in zip(key,value)}\n",
        "\n",
        "x = make_square((5,9))\n",
        "print(x)"
      ],
      "execution_count": 11,
      "outputs": [
        {
          "output_type": "stream",
          "text": [
            "{5: 25, 6: 36, 7: 49, 8: 64, 9: 81}\n"
          ],
          "name": "stdout"
        }
      ]
    },
    {
      "cell_type": "markdown",
      "metadata": {
        "id": "J7xaBB5i5D8c"
      },
      "source": [
        "### Task 11\n",
        "Write a function called **rem_duplicate** that takes a tuple in the parameter and **return a tuple** removing all the duplicate values. Then print the returned tuple in the function call.\n",
        "\n",
        "<font color='red'>**[Cannot use remove() or removed() for this task]** </font>\n",
        "\n",
        "=====================================================\n",
        "\n",
        "**Hints:** \\\n",
        "Unlike lists, tuples are immutable so, the tuple taken as an argument cannot be modified. But list can be modified and lastly for returning the result use type conversion. You need to use membership operators (in, not in) for preventing adding any duplicates values.\n",
        "\n",
        "=====================================================\n",
        "\n",
        "\n",
        "**Example1:** \\\n",
        "**Function Call:**\\\n",
        "rem_duplicate((1,1,1,2,3,4,5,6,6,6,6,4,0,0,0))\\\n",
        "**Output:**\\\n",
        "(1, 2, 3, 4, 5, 6, 0)\n",
        "\n",
        "====================================\n",
        "\n",
        "**Example2:** \\\n",
        "**Function Call:**\\\n",
        "rem_duplicate((\"Hi\", 1, 2, 3, 3, \"Hi\",'a', 'a', [1,2]))\\\n",
        "**Output:**\\\n",
        "('Hi', 1, 2, 3, 'a', [1, 2])\n",
        "\n",
        "\n",
        "\n"
      ]
    },
    {
      "cell_type": "code",
      "metadata": {
        "id": "mniLLbJY5D8d",
        "colab": {
          "base_uri": "https://localhost:8080/"
        },
        "outputId": "04ed6097-ee30-4651-be92-47683bc4313d"
      },
      "source": [
        "# to do\n",
        "def rem_duplicate(tup):\n",
        "  list_1 = list(tup)\n",
        "\n",
        "\n",
        "  new_list = []\n",
        "\n",
        "  for fx in list_1:\n",
        "      if fx not in new_list:\n",
        "          new_list.append(fx)\n",
        "\n",
        "      else:\n",
        "          continue\n",
        "\n",
        "  print(tuple(new_list))\n",
        "\n",
        "\n",
        "rem_duplicate((\"Hi\", 1, 2, 3, 3, \"Hi\",'a', 'a', [1,2]))"
      ],
      "execution_count": 15,
      "outputs": [
        {
          "output_type": "stream",
          "text": [
            "('Hi', 1, 2, 3, 'a', [1, 2])\n"
          ],
          "name": "stdout"
        }
      ]
    },
    {
      "cell_type": "markdown",
      "metadata": {
        "id": "yJxb2yrb5D8h"
      },
      "source": [
        "### Task 12\n",
        "Write a python function that takes a list as an argument. Your task is to create a new list where **each element can be present at max 2 times**. Inside the function, print the number of elements removed from the given list. Finally, return the new list and print the result.\n",
        "\n",
        "=====================================================\n",
        "\n",
        "**Hint:** Use list_name.count(element) to count the total number of times an element is in a list. list_name is your new list for this problem.\n",
        "\n",
        "=====================================================\n",
        "\n",
        "**Function Call:**\\\n",
        "function_name([1, 2, 3, 3, 3, 3, 4, 5, 8, 8])\\\n",
        "**Output:**\\\n",
        "Removed: 2\\\n",
        "[1, 2, 3, 3, 4, 5, 8, 8]\\\n",
        "================================\\\n",
        "**Function Call:**\\\n",
        "function_name([10, 10, 15, 15, 20])\\\n",
        "**Output:**\\\n",
        "Removed: 0\\\n",
        "[10, 10, 15, 15, 20]"
      ]
    },
    {
      "cell_type": "code",
      "metadata": {
        "id": "URBhYdgt5D8h",
        "colab": {
          "base_uri": "https://localhost:8080/"
        },
        "outputId": "e60ef014-087c-47cc-e95f-475f6e71f224"
      },
      "source": [
        "# todo\n",
        "def main(num):\n",
        "  new_list = []\n",
        "  count = 0\n",
        "  for fx in num:\n",
        "    if new_list.count(fx)<2:\n",
        "      \n",
        "      new_list.append(fx)\n",
        "    else:\n",
        "      count+=1\n",
        "\n",
        "  print(f'Removed: {count}')\n",
        "  return new_list\n",
        "print(main([10, 10, 15, 15, 20]))"
      ],
      "execution_count": 22,
      "outputs": [
        {
          "output_type": "stream",
          "text": [
            "Removed: 0\n",
            "[10, 10, 15, 15, 20]\n"
          ],
          "name": "stdout"
        }
      ]
    },
    {
      "cell_type": "markdown",
      "metadata": {
        "id": "vqET24dk5D8u"
      },
      "source": [
        "### Task 13\n",
        "Write a python function that will perform the basic calculation (addition, subtraction, multiplication and division) based on 3 arguments. They are:\n",
        "- Operator ('+', '-', '/', '*')\n",
        "- First Operand (any number)\n",
        "- Second Operand (any number)\n",
        "\n",
        "Your first task is to take these arguments as user input and pass the values to the function parameters.\n",
        "\n",
        "Your second task is to write a function and performs the calculation based on the given operator. Then, finally return the result in the function call and print the result.\n",
        "\n",
        "=====================================================\n",
        "\n",
        "**Input:**\\\n",
        "\"+\"\\\n",
        "10\\\n",
        "20\\\n",
        "**Function Call:**\\\n",
        "function_name(\"+\", 10, 20)\\\n",
        "**Output:**\\\n",
        "30.0\n",
        "\n",
        "================================\n",
        "\n",
        "**Input:**\\\n",
        "\"*\"\\\n",
        "5.5\\\n",
        "2.5\\\n",
        "**Function Call:**\\\n",
        "function_name(\"*\", 5.5, 2.5)\\\n",
        "**Output:**\\\n",
        "13.75\n"
      ]
    },
    {
      "cell_type": "code",
      "metadata": {
        "id": "sh7YQRv_5D8v",
        "colab": {
          "base_uri": "https://localhost:8080/"
        },
        "outputId": "ed767f06-9caa-4c18-ac6e-dc0a171313e0"
      },
      "source": [
        "# to do\n",
        "def main(ope,num_1,num_2):\n",
        "  if ope == \"+\":\n",
        "    return num_1+num_2\n",
        "  elif ope == \"*\":\n",
        "    return num_1*num_2\n",
        "  elif ope == \"-\":\n",
        "    return num_1-num_2\n",
        "  elif ope == \"/\":\n",
        "    return num_1/num_2\n",
        "  \n",
        "  \n",
        "\n",
        "print(main('*',5.5,2.5))"
      ],
      "execution_count": 27,
      "outputs": [
        {
          "output_type": "stream",
          "text": [
            "13.75\n"
          ],
          "name": "stdout"
        }
      ]
    },
    {
      "cell_type": "markdown",
      "metadata": {
        "id": "KGitjtfO5D83"
      },
      "source": [
        "### Task 14\n",
        "Write a function which will take 2 arguments. They are:\n",
        "- Sentence \n",
        "- position \n",
        "\n",
        "Your first task is to take these arguments as user input and pass these values to the function parameters.\n",
        "\n",
        "Your second task is to implement the function and remove the characters at the index number which is divisible by the position (Avoid the index number 0 as it will always be divisible by the position, so no need to remove the index 0 character). \n",
        "Finally, add the removed characters at the end of the new string.\n",
        "\n",
        "Return the value and then finally, print the new string at the function call.\n",
        "\n",
        "<font color='red'>**[Cannot use remove() or removed() for this task]** </font>\n",
        "\n",
        "=====================================================\n",
        "\n",
        "**Input:**\\\n",
        "\"I love programming.\"\\\n",
        "3\\\n",
        "**Function call:**\\\n",
        "function_name(\"I love programming.\", 3)\\\n",
        "**Output:**\\\n",
        "I lveprgrmmngo oai.\n",
        "\n",
        "==============================================\n",
        "\n",
        "**Input:**\\\n",
        "\"Python is easy to learn. I love python.\"\\\n",
        "6\\\n",
        "**Function call:**\\\n",
        "function_name(\"Python is easy to learn. I love python.\", 6)\\\n",
        "**Output:**\\\n",
        "Pythonis eay to earn.I lov pythn. sl eo\n"
      ]
    },
    {
      "cell_type": "code",
      "metadata": {
        "id": "1Op6YcHY5D84",
        "colab": {
          "base_uri": "https://localhost:8080/"
        },
        "outputId": "0387ae9d-731c-493e-83e4-62565586fb61"
      },
      "source": [
        "#todo\n",
        "def main(sen,pos):\n",
        "  \n",
        "  new = []\n",
        "  new_2 = []\n",
        "  length = len(sen)\n",
        "\n",
        "  for i in range(length):\n",
        "      if i == 0:\n",
        "          new.append(sen[i])\n",
        "      elif i%pos == 0:\n",
        "          new_2.append(sen[i])\n",
        "      else:\n",
        "          new.append(sen[i])\n",
        "\n",
        "  final = new + new_2\n",
        "  for i in final:\n",
        "      print(i,end=\"\")\n",
        "\n",
        "\n",
        "\n",
        "sen = input(\"Enter the sentence\\n\")\n",
        "pos = int(input(\"Enter the position\\n\"))\n",
        "\n",
        "main(sen,pos)"
      ],
      "execution_count": 39,
      "outputs": [
        {
          "output_type": "stream",
          "text": [
            "Enter the sentence\n",
            "Python is easy to learn. I love python.\n",
            "Enter the position\n",
            "6\n",
            "Pythonis eay to earn.I lov pythn. sl eo"
          ],
          "name": "stdout"
        }
      ]
    },
    {
      "cell_type": "markdown",
      "metadata": {
        "id": "5Gq0ZAzQ5D8-"
      },
      "source": [
        "### Task 15\n",
        "You have been hired as an app developer for the company. The company plans to make an app for a grocery store where the user can order groceries and see the total amount to be paid in the cart section. \n",
        "\n",
        "To build this feature, you have to write a function that takes 2 arguments. They are:\n",
        "- order_items (must be a list)\n",
        "- location (default value should be set to \"Dhanmondi\")\n",
        "\n",
        "Your first task is to take a list of items from the user. Pass the list into the function parameter along with the optional location (Use default argument technique). (Also, no need to take location as input, pass this any value you want.) \n",
        "\n",
        "Your second task is to implement the function. In the function, create a dictionary for the items shown in the table. Calculate the total price of the items passed as a list to the function. Additionally, add a delivery fee of 30 taka if the location is Dhanmondi. Otherwise, add a delivery fee of 70 taka. Finally, return the value and print it.\n",
        "\n",
        "| Item | Price(Tk) |\n",
        "| --- | --- |\n",
        "| Rice | 105 |\n",
        "| Potato | 20 |\n",
        "| Chicken | 250 |\n",
        "| Beef | 510 |\n",
        "| Oil | 85 |\n",
        "\n",
        "=====================================================\n",
        "\n",
        "**Hint:** The keys are the items and values are the corresponding price. Iterate the items in the list and check if the items in the list are available in the dictionary keys or not. If it is available, add the price.\n",
        "\n",
        "=====================================================\n",
        "\n",
        "**Example1:**\\\n",
        "function_name([\"Rice\", \"Beef\", \"Rice\"], \"Mohakhali\")\n",
        "\n",
        "total = 105 + 510 + 105 = 720 (Take the price of each item and add them.)\\\n",
        "total = 720 + 70 = 790 (Finally, add the delivery fee based on the location.)\n",
        "\n",
        "**Input:**\\\n",
        "[\"Rice\", \"Beef\", \"Rice\"]\\\n",
        "**Function Call:**\\\n",
        "function_name([\"Rice\", \"Beef\", \"Rice\"], \"Mohakhali\")\\\n",
        "**Output:**\\\n",
        "790\n",
        "\n",
        "==============================================\n",
        "\n",
        "**Example2:**\n",
        "\n",
        "function_name([\"Rice\", \"Beef\", \"Rice\"])\n",
        "\n",
        "total = 105 + 510 + 105 = 720 (Take the price of each item and add them.)\\\n",
        "total = 720 + 30 = 750 (Since no location is passed in the parameter, it will use the default location-\"Dhanmondi\". For dhanmondi, delivery fee of 30 taka)\n",
        "\n",
        "**Input:**\\\n",
        "[\"Rice\", \"Beef\", \"Rice\"]\\\n",
        "**Function Call:**\\\n",
        "function_name([\"Rice\", \"Beef\", \"Rice\"])\\\n",
        "**Output:**\\\n",
        "750"
      ]
    },
    {
      "cell_type": "code",
      "metadata": {
        "id": "KqbU53QPblRv",
        "colab": {
          "base_uri": "https://localhost:8080/"
        },
        "outputId": "f9f65a8e-b2c1-4bd0-d7f9-8e3b90870d58"
      },
      "source": [
        "#todo\n",
        "\n",
        "def main(items,location=\"dhanmondi\"):\n",
        "  dict_1 = {\"Rice\":105 , \"Beef\":510 , \"Chicken\":250 , \"Potato\":20 ,\"Oil\":85}\n",
        "  cost = 0\n",
        "  for fx in items:\n",
        "    price = dict_1[fx]\n",
        "    cost += price\n",
        "  if location == \"dhanmondi\":\n",
        "    cost+=30\n",
        "  else:\n",
        "    cost+=70\n",
        "  return cost\n",
        "\n",
        "print(main([\"Rice\", \"Beef\", \"Rice\"]))"
      ],
      "execution_count": 41,
      "outputs": [
        {
          "output_type": "stream",
          "text": [
            "750\n"
          ],
          "name": "stdout"
        }
      ]
    },
    {
      "cell_type": "markdown",
      "metadata": {
        "id": "sWkvpVVmbT5n"
      },
      "source": [
        "## Optional Tasks (16 -21) [Ungraded]"
      ]
    },
    {
      "cell_type": "markdown",
      "metadata": {
        "id": "LIi7SUJLZ4gA"
      },
      "source": [
        "### Task 16\n",
        "Write a function called **splitting_money** that takes an “amount” of money as a argument.\n",
        "\n",
        "Your first task is to take the “amount” of money as user input and pass the value to the function paramater.\n",
        " \n",
        "Your second task is to implement the function and calculate how that money can be split into 500, 100, 50, 20, 10, 5, 2, and 1 taka notes.\n",
        "\n",
        "Then print the returned value in the function call.\n",
        "\n",
        "=====================================================\n",
        "\n",
        "\n",
        "**Hints:** \\\n",
        "This task’s calculation is similar to Assignment-1’s seconds to hours, minutes conversion. To return the result containing multiple strings, you need to store it in a variable and return it at the end of the function.\n",
        "\n",
        "=====================================================\n",
        "\n",
        "\n",
        "**Example1:** \\\n",
        "If the money is 1234, then the function should return \n",
        "\n",
        "\"500 Taka: 2 note(s) \\\n",
        "100 Taka: 2 note(s) \\\n",
        "20 Taka: 1 note(s) \\\n",
        "10 Taka: 1 note(s) \\\n",
        "2 Taka: 2 note(s)\"\n",
        "\n",
        "=====================================================\n",
        "\n",
        "**Example2:** \\\n",
        "If the money is 151, then the function should return\n",
        "\n",
        "\"100 Taka: 1 note(s)\\\n",
        "50 Taka: 1 note(s)\\\n",
        "1 Taka: 1 note(s)\"\n",
        "\n",
        "\n"
      ]
    },
    {
      "cell_type": "code",
      "metadata": {
        "id": "XI1uLQ5rb2oH"
      },
      "source": [
        "#todo"
      ],
      "execution_count": null,
      "outputs": []
    },
    {
      "cell_type": "markdown",
      "metadata": {
        "id": "VpnhnPPcab5J"
      },
      "source": [
        "### Task 17\n",
        "Write a function called **remove_odd** that takes a list of numbers that have both even and odd numbers mixed. \\\n",
        "Your function should remove all the odd numbers and **return a compact list** which only contains the even numbers. \n",
        "\n",
        "<font color='red'>**[Cannot use remove() or removed() for this task]** </font>\n",
        "\n",
        "=====================================================\n",
        "\n",
        "**Example1:** \\\n",
        "**Function Call:**\\\n",
        "remove_odd ([21, 33, 44, 66, 11, 1, 88, 45, 10, 9])\\\n",
        "**Output:**\\\n",
        "[44, 66, 88, 10]\n",
        "\n",
        "====================================\n",
        "\n",
        "**Example2:** \\\n",
        "**Function Call:**\\\n",
        "remove_odd ([11,2,3,4,5,2,0,5,3])\\\n",
        "**Output:**\\\n",
        "[2, 4, 2, 0]\n",
        "\n"
      ]
    },
    {
      "cell_type": "code",
      "metadata": {
        "id": "y4dR2jV6bAYw"
      },
      "source": [
        "#todo"
      ],
      "execution_count": null,
      "outputs": []
    },
    {
      "cell_type": "markdown",
      "metadata": {
        "id": "8qAKekKWbBnP"
      },
      "source": [
        "### Task 18\n",
        "Write a function which will take 4 arguments. They are:\n",
        "- starting value(inclusive)\n",
        "- ending value(exclusive)\n",
        "- first divisor\n",
        "- second divisor\n",
        "\n",
        "Your first task is to take these arguments as user input and pass these values to the function.\n",
        "\n",
        "Your second task is to implement the function and find all the numbers that are divisible by the <u> **first divisor or second divisor but not both**</u> from the starting value(inclusive) and ending value(exclusive). Add all the numbers that are divisible and finally return this value. Print the returned value in the function call.\n",
        "\n",
        "=====================================================\n",
        "\n",
        "**Input:**\\\n",
        "10\\\n",
        "40\\\n",
        "4\\\n",
        "7\\\n",
        "**Function Call:**\\\n",
        "function_name(10, 40, 4, 7)\\\n",
        "**Output:**\\\n",
        "210\\\n",
        "================================\\\n",
        "**Input:**\\\n",
        "5\\\n",
        "100\\\n",
        "3\\\n",
        "4\\\n",
        "**Function Call:**\\\n",
        "function_name(5, 100, 3, 4)\\\n",
        "**Output:**\\\n",
        "2012\n",
        "\n",
        "\n"
      ]
    },
    {
      "cell_type": "code",
      "metadata": {
        "id": "-vQ3gIWm5D8-"
      },
      "source": [
        "#todo"
      ],
      "execution_count": null,
      "outputs": []
    },
    {
      "cell_type": "markdown",
      "metadata": {
        "id": "0poe59Q-aAtP"
      },
      "source": [
        "### Task 19\n",
        "Write a python function which will take a string as an argument. \n",
        "\n",
        "Your first task is to take a string as user input and pass the value to the function.\n",
        "\n",
        "Your second task is to implement a function which will check whether all the alphabets from a to j (convert all the alphabets to lowercase) has appeared at least once in the given string or not. \n",
        "- If all of these alphabets (a to j) appear at least once, then the result will be 5. \n",
        "- If any one of the alphabets (a to j) is not in the given string, then the result will be 6.\n",
        "\n",
        "Return this result and print the statement, \"Chelsea is the best club in England\" that many times.\n",
        "\n",
        "=====================================================\n",
        "\n",
        "**Example01:**\n",
        "\"A black jackal is hunting a full grown deer\" \n",
        "\n",
        "Here all the alphabets from A to J are present at least once. So, the function will return 5 and will print the statement 5 times.\n",
        "\n",
        "**Input:**\\\n",
        "\"A black jackal is hunting a full grown deer\"\\\n",
        "**Function Call:**\\\n",
        "function_name(\"A black jackal is hunting a full grown deer\")\\\n",
        "**Output:**\\\n",
        "Chelsea is the best club in England\\\n",
        "Chelsea is the best club in England\\\n",
        "Chelsea is the best club in England\\\n",
        "Chelsea is the best club in England\\\n",
        "Chelsea is the best club in England\n",
        "\n",
        "==============================================\n",
        "\n",
        "**Example02:**\n",
        "\n",
        "**Input:**\\\n",
        "\"ABBCDEFEFGHI\"\\\n",
        "**Function Call:**\\\n",
        "function_name(\"ABBCDEFEFGHI\")\\\n",
        "**Output:**\\\n",
        "Chelsea is the best club in England\\\n",
        "Chelsea is the best club in England\\\n",
        "Chelsea is the best club in England\\\n",
        "Chelsea is the best club in England\\\n",
        "Chelsea is the best club in England\\\n",
        "Chelsea is the best club in England\n"
      ]
    },
    {
      "cell_type": "code",
      "metadata": {
        "id": "uQRx3Kclb57h"
      },
      "source": [
        "#todo"
      ],
      "execution_count": null,
      "outputs": []
    },
    {
      "cell_type": "markdown",
      "metadata": {
        "id": "NTujbqM7cz8e"
      },
      "source": [
        "### Task 20\n",
        "Write a function called **individul_bonus_calculation** which will take 4 arguments. They are:\n",
        "\n",
        "- The player name\n",
        "- Yearly earning of that player\n",
        "- The total goal scored this season by that player\n",
        "- Bonus percent per goal.\n",
        "\n",
        "\n",
        "Your task is to implement the above-mentioned function that will calculate the total bonus on the yearly earnings of a player for the total goals he had scored.\n",
        "\n",
        "Additionally, \n",
        " * If the goal scored is above 30, add a (additional) bonus of 10000 taka.\n",
        " * If it is between 20 and 30 inclusive, add an extra 5000 taka.\n",
        "\n",
        "<font color='blue'>[ For this task, no need to take any input from the user. Call the functions and print the values inside the function. ] </font>\n",
        "\n",
        "\n",
        "\n",
        "=====================================================\n",
        "\n",
        "**Example1:**\\\n",
        "individul_bonus_calculation(\"Neymar\", 1200000, 35, 5)\n",
        "\n",
        "bonus = 35 * (5 / 100 * 1200000) + 10000 = 2110000\n",
        "\n",
        "**Function call:**\\\n",
        "individul_bonus_calculation(\"Neymar\", 1200000, 35, 5)\\\n",
        "**Output:**\\\n",
        "Neymar earned a bonus of  2110000 Taka for 35 goals.\n",
        "\n",
        "=====================================================\n",
        "\n",
        "**Example2:**\\\n",
        "individul_bonus_calculation('Jamal', 700000, 19, 8)\n",
        "\n",
        "bonus = 19 * (8 / 100 * 700000) + 0 = 1064000\n",
        "\n",
        "**Function call:**\\\n",
        "individul_bonus_calculation('Jamal', 700000, 19, 8)\\\n",
        "**Output:**\\\n",
        "Jamal earned a bonus of 1064000 Taka for 19 goals.\n",
        "\n",
        "=====================================================\n",
        "\n",
        "**Example3:**\\\n",
        "individul_bonus_calculation('Luis', 80000, 25, 10)\n",
        "\n",
        "bonus = 25 * (10 / 100 * 80000) + 5000 = 205000\n",
        "\n",
        "**Function call:**\\\n",
        "individul_bonus_calculation('Luis', 80000, 25, 10)\\\n",
        "**Output:**\\\n",
        "Luis earned a bonus of 205000 Taka for 25 goals.\n",
        "\n",
        "====================================================="
      ]
    },
    {
      "cell_type": "markdown",
      "metadata": {
        "id": "pRU4EhuSh_r-"
      },
      "source": [
        "### Task 21\n",
        "You have been hired by the Abahani football club to write a function that will calculate the total bonus on the yearly earnings of each player for the total goals they have scored.\n",
        "\n",
        "Since the number of players will vary, you decide to use the \"*args\" technique that you learned in your CSE110 class. \n",
        "\n",
        "For each player: pass the name, yearly earning, the total goal scored this season, bonus percent per goal. \n",
        "\n",
        "Additionally, \n",
        " * If the goal scored is above 30, add an extra bonus of 10000 taka. \n",
        " * If it is between 20 and 30 inclusive, add an extra 5000 taka.\n",
        "\n",
        "<font color='blue'>[ For this task, no need to take any input from the user. Call the functions and print the values inside the function. ] </font>\n",
        "\n",
        "**<font color='blue'>[Must reuse the individul_bonus_calculation() function of the previous task]</font>**\n",
        "\n",
        "\n",
        "=====================================================\n",
        "\n",
        "**Example1:**\\\n",
        "cal_bonus(\"Neymar\", 1200000, 35, 5)\n",
        "\n",
        "bonus = 35 * (5 / 100 * 1200000) + 10000 = 2110000\n",
        "\n",
        "**Function call:**\\\n",
        "cal_bonus(\"Neymar\", 1200000, 35, 5)\\\n",
        "**Output:**\\\n",
        "Neymar earned a bonus of  2110000 Taka for 35 goals.\n",
        "\n",
        "=====================================================\n",
        "\n",
        "**Example2:**\\\n",
        "**Function call:**\\\n",
        "function_name(\"Neymar\", 1200000, 30, 10, \"Jamal\", 700000, 19, 5)\\\n",
        "**Output:**\\\n",
        "Neymar earned a bonus of 3605000 Taka for 30 goals.\\\n",
        "Jamal earned a bonus of 665000 Taka for 19 goals.\n",
        "\n",
        "\n",
        "=====================================================\n",
        "\n",
        "**Example3:**\\\n",
        "**Function call:**\\\n",
        "function_name(\"Neymar\", 1200000, 35, 5, 'Jamal', 700000, 19, 8, 'Luis', 80000, 25, 10))\\\n",
        "**Output:**\\\n",
        "Neymar earned a bonus of 2110000 Taka for 35 goals.\\\n",
        "Jamal earned a bonus of 1064000 Taka for 19 goals.\\\n",
        "Luis earned a bonus of 205000 Taka for 25 goals.\n",
        "\n"
      ]
    },
    {
      "cell_type": "code",
      "metadata": {
        "id": "IIz3msUa5D9B"
      },
      "source": [
        "# to do"
      ],
      "execution_count": null,
      "outputs": []
    }
  ]
}